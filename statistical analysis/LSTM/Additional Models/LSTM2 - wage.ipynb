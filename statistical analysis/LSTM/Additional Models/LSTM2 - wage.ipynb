{
 "cells": [
  {
   "cell_type": "markdown",
   "metadata": {},
   "source": [
    "# *Less Effective* LSTM Model - Median Hourly Wage ($)\n",
    "\n",
    "**Difference:** *RMSprop optimizer*\n",
    "\n",
    "Training (1997-2020), Training (2021-2023)"
   ]
  },
  {
   "cell_type": "markdown",
   "metadata": {},
   "source": [
    "# Packages & Data Loading"
   ]
  },
  {
   "cell_type": "markdown",
   "metadata": {},
   "source": [
    "# Packages"
   ]
  },
  {
   "cell_type": "code",
   "execution_count": 1,
   "metadata": {},
   "outputs": [],
   "source": [
    "# Import Libraries\n",
    "import pandas as pd\n",
    "import numpy as np\n",
    "import matplotlib.pyplot as plt\n",
    "import torch\n",
    "\n",
    "from sklearn.preprocessing import StandardScaler\n",
    "from tensorflow.keras.models import Sequential\n",
    "from tensorflow.keras.layers import LSTM, Dense, Input, Dropout\n",
    "from sklearn.model_selection import TimeSeriesSplit\n",
    "from sklearn.metrics import mean_absolute_error, mean_squared_error, mean_absolute_percentage_error\n",
    "\n",
    "import gdown\n",
    "import requests\n",
    "from io import StringIO\n",
    "import time"
   ]
  },
  {
   "cell_type": "code",
   "execution_count": 2,
   "metadata": {},
   "outputs": [],
   "source": [
    "# Show graphs\n",
    "%matplotlib inline"
   ]
  },
  {
   "cell_type": "markdown",
   "metadata": {},
   "source": [
    "## Data Loading"
   ]
  },
  {
   "cell_type": "code",
   "execution_count": 3,
   "metadata": {},
   "outputs": [
    {
     "name": "stdout",
     "output_type": "stream",
     "text": [
      "Shape of the dataset: (349920, 14)\n",
      "ref_date                   object\n",
      "geo                        object\n",
      "labour_force               object\n",
      "industry                   object\n",
      "sex                        object\n",
      "age_group                  object\n",
      "value_unemployment        float64\n",
      "wages                      object\n",
      "value_wage                float64\n",
      "year                        int64\n",
      "month                       int64\n",
      "ref_date_numeric          float64\n",
      "value_unemployment_log    float64\n",
      "value_wage_log            float64\n",
      "dtype: object\n"
     ]
    }
   ],
   "source": [
    "# Google Drive file\n",
    "file_id = '117pk3NKZPfYmHQyP452HeMV7_8Jq6_W0'\n",
    "\n",
    "# Create the download URL\n",
    "download_url = f'https://drive.google.com/uc?export=download&id={file_id}'\n",
    "\n",
    "# Use requests to get file content\n",
    "response = requests.get(download_url)\n",
    "response.raise_for_status()  \n",
    "\n",
    "# Load the CSV directly into df\n",
    "csv_data = StringIO(response.text)\n",
    "df = pd.read_csv(csv_data)\n",
    "\n",
    "# Display data\n",
    "print('Shape of the dataset:', df.shape)\n",
    "print(df.dtypes)"
   ]
  },
  {
   "cell_type": "code",
   "execution_count": 4,
   "metadata": {},
   "outputs": [
    {
     "name": "stdout",
     "output_type": "stream",
     "text": [
      "       ref_date  median_wage\n",
      "0    1997-01-01    12.375000\n",
      "1    1997-02-01    12.695000\n",
      "2    1997-03-01    12.511667\n",
      "3    1997-04-01    12.585000\n",
      "4    1997-05-01    12.000000\n",
      "..          ...          ...\n",
      "319  2023-08-01    26.037639\n",
      "320  2023-09-01    27.000000\n",
      "321  2023-10-01    26.670000\n",
      "322  2023-11-01    27.000000\n",
      "323  2023-12-01    27.400000\n",
      "\n",
      "[324 rows x 2 columns]\n"
     ]
    }
   ],
   "source": [
    "# Create a copy with selected columns\n",
    "df_var = df[['ref_date', 'value_wage']].copy()\n",
    "\n",
    "# Group df_var by 'ref_date' and calculate the median 'value_wage'\n",
    "df_lstm = df_var.groupby('ref_date').agg(\n",
    "    median_wage=('value_wage', 'median')  # Calculate the median \n",
    ").reset_index()\n",
    "\n",
    "print(df_lstm)"
   ]
  },
  {
   "cell_type": "markdown",
   "metadata": {},
   "source": [
    "## Model Preparation"
   ]
  },
  {
   "cell_type": "code",
   "execution_count": 5,
   "metadata": {},
   "outputs": [
    {
     "name": "stdout",
     "output_type": "stream",
     "text": [
      "\n",
      "\n",
      "Index after setting ref_date:\n",
      " DatetimeIndex(['1997-01-01', '1997-02-01', '1997-03-01', '1997-04-01',\n",
      "               '1997-05-01'],\n",
      "              dtype='datetime64[ns]', name='ref_date', freq=None)\n",
      "\n",
      "\n",
      "Data types after setting index:\n",
      " median_wage    float64\n",
      "dtype: object\n",
      "\n",
      "\n",
      "Dataset:\n",
      "             median_wage\n",
      "ref_date               \n",
      "1997-01-01       12.375\n",
      "1997-02-01       12.695\n"
     ]
    }
   ],
   "source": [
    "# Convert 'ref_date' to datetime\n",
    "df_lstm['ref_date'] = pd.to_datetime(df_lstm['ref_date'])\n",
    "\n",
    "# Set 'ref_date' as the index \n",
    "df_lstm.set_index('ref_date', inplace=True)\n",
    "\n",
    "# Verify the index is set and DatetimeIndex\n",
    "print('\\n\\nIndex after setting ref_date:\\n', df_lstm.head().index)\n",
    "print('\\n\\nData types after setting index:\\n', df_lstm.dtypes)\n",
    "print('\\n\\nDataset:\\n', df_lstm.head(2))"
   ]
  },
  {
   "cell_type": "markdown",
   "metadata": {},
   "source": [
    "## Training & Testing Sets"
   ]
  },
  {
   "cell_type": "code",
   "execution_count": 6,
   "metadata": {},
   "outputs": [],
   "source": [
    "# Split the data into training and testing sets\n",
    "train = df_lstm['1997-01-01':'2020-12-01']\n",
    "test = df_lstm['2021-01-01':'2023-12-01']"
   ]
  },
  {
   "cell_type": "markdown",
   "metadata": {},
   "source": [
    "## Standardize Data"
   ]
  },
  {
   "cell_type": "code",
   "execution_count": 7,
   "metadata": {},
   "outputs": [
    {
     "name": "stdout",
     "output_type": "stream",
     "text": [
      "Shape of train_x_reshaped: (277, 12, 1)\n",
      "Shape of test_x_reshaped: (25, 12, 1)\n"
     ]
    }
   ],
   "source": [
    "# Standardize the training and testing data\n",
    "scaler = StandardScaler()\n",
    "\n",
    "# Fit on the training data and transform both training and testing datasets\n",
    "train_std = scaler.fit_transform(train[['median_wage']])\n",
    "test_std = scaler.transform(test[['median_wage']])\n",
    "  \n",
    "# Function to create sequences for forecasting\n",
    "def create_sequences(data, seq_length):\n",
    "    xs, ys = [], []\n",
    "    # Ensure data is 2D to allow proper indexing for sequences\n",
    "    if len(data.shape) == 1:\n",
    "        data = data.reshape(-1, 1)\n",
    "    \n",
    "    # Loop through the data to create sequences of length seq_length\n",
    "    for i in range(len(data) - seq_length):\n",
    "        x = data[i:i+seq_length]  # Sequence of length 'seq_length'\n",
    "        y = data[i+seq_length, 0]  # Target value right after the sequence\n",
    "        xs.append(x)\n",
    "        ys.append(y)\n",
    "    \n",
    "    # Include the last sequence even if it doesn't reach the end\n",
    "    x_last = data[len(data) - seq_length:]  # Last sequence (12 months of data)\n",
    "    y_last = data[len(data) - 1, 0]  # Target for the last sequence (next data point)\n",
    "    xs.append(x_last)\n",
    "    ys.append(y_last)\n",
    "    \n",
    "    return np.array(xs), np.array(ys)\n",
    "\n",
    "# Define sequence length\n",
    "SEQ_LENGTH = 12\n",
    "\n",
    "# Create training and testing sequences\n",
    "train_x, train_y = create_sequences(train_std, SEQ_LENGTH)\n",
    "test_x, test_y = create_sequences(test_std, SEQ_LENGTH)\n",
    "\n",
    "# Reshape to 3D for LSTM: (samples, time steps, features)\n",
    "train_x_reshaped = train_x.reshape((train_x.shape[0], train_x.shape[1], 1))\n",
    "test_x_reshaped = test_x.reshape((test_x.shape[0], test_x.shape[1], 1))\n",
    "\n",
    "# Print the shapes to confirm\n",
    "print(\"Shape of train_x_reshaped:\", train_x_reshaped.shape)  \n",
    "print(\"Shape of test_x_reshaped:\", test_x_reshaped.shape)   "
   ]
  },
  {
   "cell_type": "markdown",
   "metadata": {},
   "source": [
    "## Cross Validation"
   ]
  },
  {
   "cell_type": "code",
   "execution_count": 8,
   "metadata": {},
   "outputs": [
    {
     "name": "stdout",
     "output_type": "stream",
     "text": [
      "\u001b[1m2/2\u001b[0m \u001b[32m━━━━━━━━━━━━━━━━━━━━\u001b[0m\u001b[37m\u001b[0m \u001b[1m0s\u001b[0m 155ms/step\n",
      "\n",
      "Validation Set Results\n",
      "Validation MAE: 0.44, RMSE: 0.56, MAPE: 3.11%, Training time: 11.94 seconds\n",
      "\u001b[1m2/2\u001b[0m \u001b[32m━━━━━━━━━━━━━━━━━━━━\u001b[0m\u001b[37m\u001b[0m \u001b[1m0s\u001b[0m 3ms/step \n",
      "\n",
      "Validation Set Results\n",
      "Validation MAE: 1.06, RMSE: 1.22, MAPE: 6.20%, Training time: 10.54 seconds\n",
      "\u001b[1m2/2\u001b[0m \u001b[32m━━━━━━━━━━━━━━━━━━━━\u001b[0m\u001b[37m\u001b[0m \u001b[1m0s\u001b[0m 4ms/step \n",
      "\n",
      "Validation Set Results\n",
      "Validation MAE: 1.89, RMSE: 2.00, MAPE: 9.67%, Training time: 11.33 seconds\n",
      "\u001b[1m2/2\u001b[0m \u001b[32m━━━━━━━━━━━━━━━━━━━━\u001b[0m\u001b[37m\u001b[0m \u001b[1m0s\u001b[0m 3ms/step \n",
      "\n",
      "Validation Set Results\n",
      "Validation MAE: 0.40, RMSE: 0.48, MAPE: 1.90%, Training time: 11.68 seconds\n",
      "\u001b[1m2/2\u001b[0m \u001b[32m━━━━━━━━━━━━━━━━━━━━\u001b[0m\u001b[37m\u001b[0m \u001b[1m0s\u001b[0m 4ms/step \n",
      "\n",
      "Validation Set Results\n",
      "Validation MAE: 0.49, RMSE: 0.61, MAPE: 2.08%, Training time: 12.15 seconds\n",
      "\n",
      "Mean Overall Scores\n",
      "Cross-Validation Mean Absolute Error (MAE): 0.8565749054910798\n",
      "Cross-Validation Root Mean Squared Error (RMSE): 0.972711744063113\n",
      "Cross-Validation Mean Absolute Percentage Error (MAPE): 0.04591160976077615\n"
     ]
    }
   ],
   "source": [
    "# Cross-validation with TimeSeriesSplit\n",
    "tscv = TimeSeriesSplit(n_splits=5)\n",
    "cv_mae_scores = []\n",
    "cv_rmse_scores = []\n",
    "cv_mape_scores = []\n",
    "\n",
    "# Define model \n",
    "model_cv = Sequential()\n",
    "model_cv.add(Input(shape=(SEQ_LENGTH, 1)))\n",
    "model_cv.add(LSTM(32, activation='relu'))\n",
    "model_cv.add(Dropout(0.2))\n",
    "model_cv.add(Dense(1, activation='linear'))\n",
    "\n",
    "# Compile model before the loop\n",
    "model_cv.compile(optimizer='RMSprop', loss='mse')\n",
    "\n",
    "for train_index, val_index in tscv.split(train_std):\n",
    "    # Split standardized data into training and validation for each fold\n",
    "    train_x_cv, train_y_cv = create_sequences(train_std[train_index], SEQ_LENGTH)\n",
    "    val_x_cv, val_y_cv = create_sequences(train_std[val_index], SEQ_LENGTH)\n",
    "\n",
    "    # Reshape to 3D for LSTM: (samples, time steps, features)\n",
    "    train_x_cv_reshaped = train_x_cv.reshape((train_x_cv.shape[0], train_x_cv.shape[1], 1))\n",
    "    val_x_cv_reshaped = val_x_cv.reshape((val_x_cv.shape[0], val_x_cv.shape[1], 1))\n",
    "\n",
    "    # Train model\n",
    "    start = time.time()\n",
    "    history = model_cv.fit(train_x_cv_reshaped, train_y_cv, epochs=200, batch_size=32, validation_data=(val_x_cv_reshaped, val_y_cv), verbose=0)\n",
    "    end = time.time()\n",
    "\n",
    "    # Predict on validation data\n",
    "    val_predictions = model_cv.predict(val_x_cv_reshaped)\n",
    "\n",
    "    # Flatten predictions and target values for metric functions\n",
    "    val_predictions_flattened = val_predictions.flatten()\n",
    "    val_y_cv_flattened = val_y_cv.flatten()\n",
    "\n",
    "    # Inverse transform the predicted and actual values back to the original scale\n",
    "    val_predictions_inv = scaler.inverse_transform(val_predictions_flattened.reshape(-1, 1))\n",
    "    val_y_cv_inv = scaler.inverse_transform(val_y_cv_flattened.reshape(-1, 1))\n",
    "\n",
    "    # Calculate MAPE on the unscaled data\n",
    "    epsilon = 1e-10  # Small value to avoid division by zero\n",
    "    val_mape = mean_absolute_percentage_error(val_y_cv_inv + epsilon, val_predictions_inv + epsilon)\n",
    "\n",
    "    # Calculate MAE, RMSE, and MAPE for validation set\n",
    "    val_mae = mean_absolute_error(val_y_cv_inv, val_predictions_inv)\n",
    "    val_rmse = np.sqrt(mean_squared_error(val_y_cv_inv, val_predictions_inv))\n",
    "\n",
    "    # Append scores to corresponding lists\n",
    "    cv_mae_scores.append(val_mae)\n",
    "    cv_rmse_scores.append(val_rmse)\n",
    "    cv_mape_scores.append(val_mape)\n",
    "\n",
    "    print('\\nValidation Set Results')\n",
    "    print(f\"Validation MAE: {val_mae:.2f}, RMSE: {val_rmse:.2f}, MAPE: {val_mape * 100:.2f}%, Training time: {end - start:.2f} seconds\")\n",
    "\n",
    "# Print Cross-Validation Mean Scores\n",
    "print('\\nMean Overall Scores')\n",
    "print('Cross-Validation Mean Absolute Error (MAE):', np.mean(cv_mae_scores))\n",
    "print('Cross-Validation Root Mean Squared Error (RMSE):', np.mean(cv_rmse_scores))\n",
    "print('Cross-Validation Mean Absolute Percentage Error (MAPE):', np.mean(cv_mape_scores))"
   ]
  },
  {
   "cell_type": "markdown",
   "metadata": {},
   "source": [
    "# Training Model"
   ]
  },
  {
   "cell_type": "code",
   "execution_count": 9,
   "metadata": {},
   "outputs": [
    {
     "data": {
      "text/html": [
       "<pre style=\"white-space:pre;overflow-x:auto;line-height:normal;font-family:Menlo,'DejaVu Sans Mono',consolas,'Courier New',monospace\"><span style=\"font-weight: bold\">Model: \"sequential_1\"</span>\n",
       "</pre>\n"
      ],
      "text/plain": [
       "\u001b[1mModel: \"sequential_1\"\u001b[0m\n"
      ]
     },
     "metadata": {},
     "output_type": "display_data"
    },
    {
     "data": {
      "text/html": [
       "<pre style=\"white-space:pre;overflow-x:auto;line-height:normal;font-family:Menlo,'DejaVu Sans Mono',consolas,'Courier New',monospace\">┏━━━━━━━━━━━━━━━━━━━━━━━━━━━━━━━━━┳━━━━━━━━━━━━━━━━━━━━━━━━┳━━━━━━━━━━━━━━━┓\n",
       "┃<span style=\"font-weight: bold\"> Layer (type)                    </span>┃<span style=\"font-weight: bold\"> Output Shape           </span>┃<span style=\"font-weight: bold\">       Param # </span>┃\n",
       "┡━━━━━━━━━━━━━━━━━━━━━━━━━━━━━━━━━╇━━━━━━━━━━━━━━━━━━━━━━━━╇━━━━━━━━━━━━━━━┩\n",
       "│ lstm_1 (<span style=\"color: #0087ff; text-decoration-color: #0087ff\">LSTM</span>)                   │ (<span style=\"color: #00d7ff; text-decoration-color: #00d7ff\">None</span>, <span style=\"color: #00af00; text-decoration-color: #00af00\">32</span>)             │         <span style=\"color: #00af00; text-decoration-color: #00af00\">4,352</span> │\n",
       "├─────────────────────────────────┼────────────────────────┼───────────────┤\n",
       "│ dropout_1 (<span style=\"color: #0087ff; text-decoration-color: #0087ff\">Dropout</span>)             │ (<span style=\"color: #00d7ff; text-decoration-color: #00d7ff\">None</span>, <span style=\"color: #00af00; text-decoration-color: #00af00\">32</span>)             │             <span style=\"color: #00af00; text-decoration-color: #00af00\">0</span> │\n",
       "├─────────────────────────────────┼────────────────────────┼───────────────┤\n",
       "│ dense_1 (<span style=\"color: #0087ff; text-decoration-color: #0087ff\">Dense</span>)                 │ (<span style=\"color: #00d7ff; text-decoration-color: #00d7ff\">None</span>, <span style=\"color: #00af00; text-decoration-color: #00af00\">1</span>)              │            <span style=\"color: #00af00; text-decoration-color: #00af00\">33</span> │\n",
       "└─────────────────────────────────┴────────────────────────┴───────────────┘\n",
       "</pre>\n"
      ],
      "text/plain": [
       "┏━━━━━━━━━━━━━━━━━━━━━━━━━━━━━━━━━┳━━━━━━━━━━━━━━━━━━━━━━━━┳━━━━━━━━━━━━━━━┓\n",
       "┃\u001b[1m \u001b[0m\u001b[1mLayer (type)                   \u001b[0m\u001b[1m \u001b[0m┃\u001b[1m \u001b[0m\u001b[1mOutput Shape          \u001b[0m\u001b[1m \u001b[0m┃\u001b[1m \u001b[0m\u001b[1m      Param #\u001b[0m\u001b[1m \u001b[0m┃\n",
       "┡━━━━━━━━━━━━━━━━━━━━━━━━━━━━━━━━━╇━━━━━━━━━━━━━━━━━━━━━━━━╇━━━━━━━━━━━━━━━┩\n",
       "│ lstm_1 (\u001b[38;5;33mLSTM\u001b[0m)                   │ (\u001b[38;5;45mNone\u001b[0m, \u001b[38;5;34m32\u001b[0m)             │         \u001b[38;5;34m4,352\u001b[0m │\n",
       "├─────────────────────────────────┼────────────────────────┼───────────────┤\n",
       "│ dropout_1 (\u001b[38;5;33mDropout\u001b[0m)             │ (\u001b[38;5;45mNone\u001b[0m, \u001b[38;5;34m32\u001b[0m)             │             \u001b[38;5;34m0\u001b[0m │\n",
       "├─────────────────────────────────┼────────────────────────┼───────────────┤\n",
       "│ dense_1 (\u001b[38;5;33mDense\u001b[0m)                 │ (\u001b[38;5;45mNone\u001b[0m, \u001b[38;5;34m1\u001b[0m)              │            \u001b[38;5;34m33\u001b[0m │\n",
       "└─────────────────────────────────┴────────────────────────┴───────────────┘\n"
      ]
     },
     "metadata": {},
     "output_type": "display_data"
    },
    {
     "data": {
      "text/html": [
       "<pre style=\"white-space:pre;overflow-x:auto;line-height:normal;font-family:Menlo,'DejaVu Sans Mono',consolas,'Courier New',monospace\"><span style=\"font-weight: bold\"> Total params: </span><span style=\"color: #00af00; text-decoration-color: #00af00\">4,385</span> (17.13 KB)\n",
       "</pre>\n"
      ],
      "text/plain": [
       "\u001b[1m Total params: \u001b[0m\u001b[38;5;34m4,385\u001b[0m (17.13 KB)\n"
      ]
     },
     "metadata": {},
     "output_type": "display_data"
    },
    {
     "data": {
      "text/html": [
       "<pre style=\"white-space:pre;overflow-x:auto;line-height:normal;font-family:Menlo,'DejaVu Sans Mono',consolas,'Courier New',monospace\"><span style=\"font-weight: bold\"> Trainable params: </span><span style=\"color: #00af00; text-decoration-color: #00af00\">4,385</span> (17.13 KB)\n",
       "</pre>\n"
      ],
      "text/plain": [
       "\u001b[1m Trainable params: \u001b[0m\u001b[38;5;34m4,385\u001b[0m (17.13 KB)\n"
      ]
     },
     "metadata": {},
     "output_type": "display_data"
    },
    {
     "data": {
      "text/html": [
       "<pre style=\"white-space:pre;overflow-x:auto;line-height:normal;font-family:Menlo,'DejaVu Sans Mono',consolas,'Courier New',monospace\"><span style=\"font-weight: bold\"> Non-trainable params: </span><span style=\"color: #00af00; text-decoration-color: #00af00\">0</span> (0.00 B)\n",
       "</pre>\n"
      ],
      "text/plain": [
       "\u001b[1m Non-trainable params: \u001b[0m\u001b[38;5;34m0\u001b[0m (0.00 B)\n"
      ]
     },
     "metadata": {},
     "output_type": "display_data"
    },
    {
     "name": "stdout",
     "output_type": "stream",
     "text": [
      "None\n",
      "\u001b[1m9/9\u001b[0m \u001b[32m━━━━━━━━━━━━━━━━━━━━\u001b[0m\u001b[37m\u001b[0m \u001b[1m0s\u001b[0m 20ms/step\n",
      "\n",
      "Training Set Results\n",
      "Training MAE: 0.34, RMSE: 0.43, MAPE: 1.94%, Training time: 14.31 seconds\n",
      "\n",
      "Mean Overall Scores\n",
      "Training Mean Absolute Error (MAE): 0.34188197461795433\n",
      "Training Root Mean Squared Error (RMSE): 0.43319629832324075\n",
      "Training Mean Absolute Percentage Error (MAPE): 0.019363736359961584\n"
     ]
    }
   ],
   "source": [
    "train_mae_scores = []\n",
    "train_rmse_scores = []\n",
    "train_mape_scores = []\n",
    "\n",
    "# Train model on full training set\n",
    "model_train = Sequential()\n",
    "model_train.add(Input(shape=(SEQ_LENGTH, 1)))\n",
    "model_train.add(LSTM(32, activation='relu'))\n",
    "model_train.add(Dropout(0.2))\n",
    "model_train.add(Dense(1, activation='linear'))\n",
    "\n",
    "# Compile model before the loop\n",
    "model_train.compile(optimizer='RMSprop', loss='mse')\n",
    "\n",
    "print(model_train.summary())\n",
    "\n",
    "# Train model on the entire training set\n",
    "start = time.time()\n",
    "history = model_train.fit(train_x_reshaped, train_y, epochs=200, batch_size=32, validation_data=(val_x_cv_reshaped, val_y_cv), verbose=0)\n",
    "end = time.time()\n",
    "\n",
    "# Predict on the full training data \n",
    "train_predictions = model_train.predict(train_x_reshaped)\n",
    "\n",
    "# Flatten predictions and target values for metric functions\n",
    "train_predictions_flattened = train_predictions.flatten()\n",
    "train_y_flattened = train_y.flatten()\n",
    "\n",
    "# Inverse transform the predicted and actual values back to the original scale\n",
    "train_predictions_inv = scaler.inverse_transform(train_predictions_flattened.reshape(-1, 1))  # Inverse transform predictions\n",
    "train_y_inv = scaler.inverse_transform(train_y_flattened.reshape(-1, 1))  # Inverse transform true values\n",
    "\n",
    "# Calculate MAE, RMSE, and MAPE for the whole training set\n",
    "train_mae = mean_absolute_error(train_y_inv, train_predictions_inv)\n",
    "train_rmse = np.sqrt(mean_squared_error(train_y_inv, train_predictions_inv))\n",
    "\n",
    "# Add a small epsilon to avoid division by zero in MAPE calculation\n",
    "epsilon = 1e-10  # Small value to avoid division by zero\n",
    "train_mape = mean_absolute_percentage_error(train_y_inv + epsilon, train_predictions_inv + epsilon)\n",
    "\n",
    "# Append scores to corresponding lists\n",
    "train_mae_scores.append(train_mae)\n",
    "train_rmse_scores.append(train_rmse)\n",
    "train_mape_scores.append(train_mape)\n",
    "\n",
    "# Output training results\n",
    "print('\\nTraining Set Results')\n",
    "print(f\"Training MAE: {train_mae:.2f}, RMSE: {train_rmse:.2f}, MAPE: {train_mape * 100:.2f}%, Training time: {end - start:.2f} seconds\")\n",
    "\n",
    "# Print Mean Scores for the whole training set\n",
    "print('\\nMean Overall Scores')\n",
    "print('Training Mean Absolute Error (MAE):', np.mean(train_mae_scores))\n",
    "print('Training Root Mean Squared Error (RMSE):', np.mean(train_rmse_scores))\n",
    "print('Training Mean Absolute Percentage Error (MAPE):', np.mean(train_mape_scores))"
   ]
  },
  {
   "cell_type": "code",
   "execution_count": 10,
   "metadata": {},
   "outputs": [
    {
     "data": {
      "image/png": "[encoded data removed]",
      "text/plain": [
       "<Figure size 640x480 with 1 Axes>"
      ]
     },
     "metadata": {},
     "output_type": "display_data"
    },
    {
     "name": "stdout",
     "output_type": "stream",
     "text": [
      "Best epoch based on validation loss: 168\n"
     ]
    }
   ],
   "source": [
    "# Retrieve loss and validation loss from history\n",
    "loss = history.history['loss']\n",
    "val_loss = history.history['val_loss']\n",
    "\n",
    "# Define smoothing function\n",
    "def smooth_curve(points, factor=0.9):\n",
    "    smoothed_points = []\n",
    "    for point in points:\n",
    "        if smoothed_points:\n",
    "            previous = smoothed_points[-1]\n",
    "            smoothed_points.append(previous * factor + point * (1 - factor))\n",
    "        else:\n",
    "            smoothed_points.append(point)\n",
    "    return smoothed_points\n",
    "\n",
    "# Smooth loss curves\n",
    "smoothed_loss = smooth_curve(loss)\n",
    "smoothed_val_loss = smooth_curve(val_loss)\n",
    "\n",
    "# Plot smoothed training and validation loss\n",
    "plt.plot(range(1, len(smoothed_loss) + 1), smoothed_loss, label='Smoothed Training Loss')\n",
    "plt.plot(range(1, len(smoothed_val_loss) + 1), smoothed_val_loss, label='Smoothed Validation Loss')\n",
    "plt.title('Training and Validation Loss - Median Hourly Wage ($)')\n",
    "plt.xlabel('Epochs')\n",
    "plt.ylabel('Loss')\n",
    "plt.legend()\n",
    "plt.show()\n",
    "\n",
    "# Identify epoch with the lowest validation loss\n",
    "best_epoch = np.argmin(smoothed_val_loss) + 1\n",
    "print(f\"Best epoch based on validation loss: {best_epoch}\")"
   ]
  },
  {
   "cell_type": "code",
   "execution_count": 11,
   "metadata": {},
   "outputs": [
    {
     "data": {
      "text/html": [
       "<pre style=\"white-space:pre;overflow-x:auto;line-height:normal;font-family:Menlo,'DejaVu Sans Mono',consolas,'Courier New',monospace\"><span style=\"font-weight: bold\">Model: \"sequential_2\"</span>\n",
       "</pre>\n"
      ],
      "text/plain": [
       "\u001b[1mModel: \"sequential_2\"\u001b[0m\n"
      ]
     },
     "metadata": {},
     "output_type": "display_data"
    },
    {
     "data": {
      "text/html": [
       "<pre style=\"white-space:pre;overflow-x:auto;line-height:normal;font-family:Menlo,'DejaVu Sans Mono',consolas,'Courier New',monospace\">┏━━━━━━━━━━━━━━━━━━━━━━━━━━━━━━━━━┳━━━━━━━━━━━━━━━━━━━━━━━━┳━━━━━━━━━━━━━━━┓\n",
       "┃<span style=\"font-weight: bold\"> Layer (type)                    </span>┃<span style=\"font-weight: bold\"> Output Shape           </span>┃<span style=\"font-weight: bold\">       Param # </span>┃\n",
       "┡━━━━━━━━━━━━━━━━━━━━━━━━━━━━━━━━━╇━━━━━━━━━━━━━━━━━━━━━━━━╇━━━━━━━━━━━━━━━┩\n",
       "│ lstm_2 (<span style=\"color: #0087ff; text-decoration-color: #0087ff\">LSTM</span>)                   │ (<span style=\"color: #00d7ff; text-decoration-color: #00d7ff\">None</span>, <span style=\"color: #00af00; text-decoration-color: #00af00\">32</span>)             │         <span style=\"color: #00af00; text-decoration-color: #00af00\">4,352</span> │\n",
       "├─────────────────────────────────┼────────────────────────┼───────────────┤\n",
       "│ dropout_2 (<span style=\"color: #0087ff; text-decoration-color: #0087ff\">Dropout</span>)             │ (<span style=\"color: #00d7ff; text-decoration-color: #00d7ff\">None</span>, <span style=\"color: #00af00; text-decoration-color: #00af00\">32</span>)             │             <span style=\"color: #00af00; text-decoration-color: #00af00\">0</span> │\n",
       "├─────────────────────────────────┼────────────────────────┼───────────────┤\n",
       "│ dense_2 (<span style=\"color: #0087ff; text-decoration-color: #0087ff\">Dense</span>)                 │ (<span style=\"color: #00d7ff; text-decoration-color: #00d7ff\">None</span>, <span style=\"color: #00af00; text-decoration-color: #00af00\">1</span>)              │            <span style=\"color: #00af00; text-decoration-color: #00af00\">33</span> │\n",
       "└─────────────────────────────────┴────────────────────────┴───────────────┘\n",
       "</pre>\n"
      ],
      "text/plain": [
       "┏━━━━━━━━━━━━━━━━━━━━━━━━━━━━━━━━━┳━━━━━━━━━━━━━━━━━━━━━━━━┳━━━━━━━━━━━━━━━┓\n",
       "┃\u001b[1m \u001b[0m\u001b[1mLayer (type)                   \u001b[0m\u001b[1m \u001b[0m┃\u001b[1m \u001b[0m\u001b[1mOutput Shape          \u001b[0m\u001b[1m \u001b[0m┃\u001b[1m \u001b[0m\u001b[1m      Param #\u001b[0m\u001b[1m \u001b[0m┃\n",
       "┡━━━━━━━━━━━━━━━━━━━━━━━━━━━━━━━━━╇━━━━━━━━━━━━━━━━━━━━━━━━╇━━━━━━━━━━━━━━━┩\n",
       "│ lstm_2 (\u001b[38;5;33mLSTM\u001b[0m)                   │ (\u001b[38;5;45mNone\u001b[0m, \u001b[38;5;34m32\u001b[0m)             │         \u001b[38;5;34m4,352\u001b[0m │\n",
       "├─────────────────────────────────┼────────────────────────┼───────────────┤\n",
       "│ dropout_2 (\u001b[38;5;33mDropout\u001b[0m)             │ (\u001b[38;5;45mNone\u001b[0m, \u001b[38;5;34m32\u001b[0m)             │             \u001b[38;5;34m0\u001b[0m │\n",
       "├─────────────────────────────────┼────────────────────────┼───────────────┤\n",
       "│ dense_2 (\u001b[38;5;33mDense\u001b[0m)                 │ (\u001b[38;5;45mNone\u001b[0m, \u001b[38;5;34m1\u001b[0m)              │            \u001b[38;5;34m33\u001b[0m │\n",
       "└─────────────────────────────────┴────────────────────────┴───────────────┘\n"
      ]
     },
     "metadata": {},
     "output_type": "display_data"
    },
    {
     "data": {
      "text/html": [
       "<pre style=\"white-space:pre;overflow-x:auto;line-height:normal;font-family:Menlo,'DejaVu Sans Mono',consolas,'Courier New',monospace\"><span style=\"font-weight: bold\"> Total params: </span><span style=\"color: #00af00; text-decoration-color: #00af00\">4,385</span> (17.13 KB)\n",
       "</pre>\n"
      ],
      "text/plain": [
       "\u001b[1m Total params: \u001b[0m\u001b[38;5;34m4,385\u001b[0m (17.13 KB)\n"
      ]
     },
     "metadata": {},
     "output_type": "display_data"
    },
    {
     "data": {
      "text/html": [
       "<pre style=\"white-space:pre;overflow-x:auto;line-height:normal;font-family:Menlo,'DejaVu Sans Mono',consolas,'Courier New',monospace\"><span style=\"font-weight: bold\"> Trainable params: </span><span style=\"color: #00af00; text-decoration-color: #00af00\">4,385</span> (17.13 KB)\n",
       "</pre>\n"
      ],
      "text/plain": [
       "\u001b[1m Trainable params: \u001b[0m\u001b[38;5;34m4,385\u001b[0m (17.13 KB)\n"
      ]
     },
     "metadata": {},
     "output_type": "display_data"
    },
    {
     "data": {
      "text/html": [
       "<pre style=\"white-space:pre;overflow-x:auto;line-height:normal;font-family:Menlo,'DejaVu Sans Mono',consolas,'Courier New',monospace\"><span style=\"font-weight: bold\"> Non-trainable params: </span><span style=\"color: #00af00; text-decoration-color: #00af00\">0</span> (0.00 B)\n",
       "</pre>\n"
      ],
      "text/plain": [
       "\u001b[1m Non-trainable params: \u001b[0m\u001b[38;5;34m0\u001b[0m (0.00 B)\n"
      ]
     },
     "metadata": {},
     "output_type": "display_data"
    },
    {
     "name": "stdout",
     "output_type": "stream",
     "text": [
      "None\n",
      "\u001b[1m9/9\u001b[0m \u001b[32m━━━━━━━━━━━━━━━━━━━━\u001b[0m\u001b[37m\u001b[0m \u001b[1m0s\u001b[0m 20ms/step\n",
      "\n",
      "Training Set Results\n",
      "Training MAE: 0.37, RMSE: 0.45, MAPE: 2.13%, Training time: 8.23 seconds\n",
      "\n",
      "Mean Overall Scores\n",
      "Training Mean Absolute Error (MAE): 0.3694132086950744\n",
      "Training Root Mean Squared Error (RMSE): 0.45218812006110826\n",
      "Training Mean Absolute Percentage Error (MAPE): 0.021337712961099858\n"
     ]
    }
   ],
   "source": [
    "train_final_mae_scores = []\n",
    "train_final_rmse_scores = []\n",
    "train_final_mape_scores = []\n",
    "\n",
    "# Train model on the full training set\n",
    "model_train_final = Sequential()\n",
    "model_train_final.add(Input(shape=(SEQ_LENGTH, 1)))\n",
    "model_train_final.add(LSTM(32, activation='relu'))\n",
    "model_train_final.add(Dropout(0.2))\n",
    "model_train_final.add(Dense(1, activation='linear'))\n",
    "\n",
    "# Compile model before the loop\n",
    "model_train_final.compile(optimizer='RMSprop', loss='mse')\n",
    "\n",
    "print(model_train_final.summary())\n",
    "\n",
    "# Train model on the entire training set\n",
    "start = time.time()\n",
    "history = model_train_final.fit(train_x_reshaped, train_y, epochs=best_epoch, batch_size=32, verbose=0)\n",
    "end = time.time()\n",
    "\n",
    "# Predict on the full training data \n",
    "train_final_predictions = model_train_final.predict(train_x_reshaped)\n",
    "\n",
    "# Flatten predictions and target values to be compatible with metric functions\n",
    "train_final_predictions_flattened = train_final_predictions.flatten()\n",
    "train_final_y_flattened = train_y.flatten()\n",
    "\n",
    "# Inverse transform the predicted and actual values back to the original scale\n",
    "train_final_predictions_inv = scaler.inverse_transform(train_final_predictions_flattened.reshape(-1, 1))  # Inverse transform predictions\n",
    "train_final_y_inv = scaler.inverse_transform(train_final_y_flattened.reshape(-1, 1))  # Inverse transform true values\n",
    "\n",
    "# Calculate MAE, RMSE, and MAPE for the whole training set\n",
    "train_final_mae = mean_absolute_error(train_final_y_inv, train_final_predictions_inv)\n",
    "train_final_rmse = np.sqrt(mean_squared_error(train_final_y_inv, train_final_predictions_inv))\n",
    "\n",
    "# Add a small epsilon to avoid division by zero in MAPE calculation\n",
    "epsilon = 1e-10  # Small value to avoid division by zero\n",
    "train_final_mape = mean_absolute_percentage_error(train_final_y_inv + epsilon, train_final_predictions_inv + epsilon)\n",
    "\n",
    "# Append scores to corresponding lists\n",
    "train_final_mae_scores.append(train_final_mae)\n",
    "train_final_rmse_scores.append(train_final_rmse)\n",
    "train_final_mape_scores.append(train_final_mape)\n",
    "\n",
    "# Output training results\n",
    "print('\\nTraining Set Results')\n",
    "print(f\"Training MAE: {train_final_mae:.2f}, RMSE: {train_final_rmse:.2f}, MAPE: {train_final_mape * 100:.2f}%, Training time: {end - start:.2f} seconds\")\n",
    "\n",
    "# Print Mean Scores for the whole training set\n",
    "print('\\nMean Overall Scores')\n",
    "print('Training Mean Absolute Error (MAE):', np.mean(train_final_mae_scores))\n",
    "print('Training Root Mean Squared Error (RMSE):', np.mean(train_final_rmse_scores))\n",
    "print('Training Mean Absolute Percentage Error (MAPE):', np.mean(train_final_mape_scores))"
   ]
  },
  {
   "cell_type": "markdown",
   "metadata": {},
   "source": [
    "# Final Model Evaluation"
   ]
  },
  {
   "cell_type": "code",
   "execution_count": 12,
   "metadata": {},
   "outputs": [
    {
     "name": "stdout",
     "output_type": "stream",
     "text": [
      "Shape of test_x: (25, 12, 1)\n",
      "Shape of test_y before reshaping: (25,)\n",
      "Shape of test_y after reshaping: (25, 1)\n",
      "\u001b[1m1/1\u001b[0m \u001b[32m━━━━━━━━━━━━━━━━━━━━\u001b[0m\u001b[37m\u001b[0m \u001b[1m0s\u001b[0m 251ms/step - loss: 0.0148\n",
      "\n",
      "Test Loss (MSE): 0.014816904440522194\n",
      "\u001b[1m1/1\u001b[0m \u001b[32m━━━━━━━━━━━━━━━━━━━━\u001b[0m\u001b[37m\u001b[0m \u001b[1m0s\u001b[0m 185ms/step\n",
      "\n",
      "Model Evaluation Metrics\n",
      "Test MAE: 0.35\n",
      "Test MSE: 0.21\n",
      "Test RMSE: 0.46\n",
      "Test MAPE: 1.34%\n",
      "\n",
      "      Actual  Predicted\n",
      "0  25.063571  25.169083\n",
      "1  25.695714  25.211782\n",
      "2  25.553571  25.231432\n",
      "3  25.000000  25.004416\n",
      "4  25.000000  24.719206\n"
     ]
    }
   ],
   "source": [
    "# Verify test_x and test_y shape\n",
    "print(\"Shape of test_x:\", test_x.shape)  # Should be (25, 12, 1)\n",
    "print(\"Shape of test_y before reshaping:\", test_y.shape)  # Should be (25,)\n",
    "\n",
    "# Reshape test_y to (25, 1) for evaluation \n",
    "test_y_reshaped = test_y.reshape(-1, 1)  # Reshape from (25,) to (25, 1)\n",
    "\n",
    "# Verify new shape of test_y\n",
    "print(\"Shape of test_y after reshaping:\", test_y_reshaped.shape)  # Should be (25, 1)\n",
    "\n",
    "# Compile the model before using it for evaluation\n",
    "model_train_final.compile(optimizer='RMSprop', loss='mse')\n",
    "\n",
    "# Evaluate model with reshaped test_y\n",
    "loss = model_train_final.evaluate(test_x, test_y_reshaped)\n",
    "print(f'\\nTest Loss (MSE): {loss}')  \n",
    "\n",
    "# Make predictions on the test set\n",
    "predictions = model_train_final.predict(test_x)\n",
    "\n",
    "# Flatten predictions and target values for metric functions\n",
    "predictions_flattened = predictions.flatten()\n",
    "test_y_reshaped_flattened = test_y_reshaped.flatten()\n",
    "\n",
    "# Add epsilon to avoid division by zero in MAPE calculation\n",
    "epsilon = 1e-10  # Small value to avoid division by zero\n",
    "\n",
    "# Inverse transform the predictions and actual values back to the original scale\n",
    "predictions_inv = scaler.inverse_transform(predictions_flattened.reshape(-1, 1))  # Inverse transform predictions\n",
    "y_test_inv = scaler.inverse_transform(test_y_reshaped_flattened.reshape(-1, 1))  # Inverse transform true values\n",
    "\n",
    "# Calculate MAE, RMSE, and MAPE for the whole test set\n",
    "mae = mean_absolute_error(y_test_inv, predictions_inv)\n",
    "mse = mean_squared_error(y_test_inv, predictions_inv)\n",
    "rmse = np.sqrt(mse)\n",
    "\n",
    "# Calculate MAPE using inverse transformed values\n",
    "mape = mean_absolute_percentage_error(y_test_inv + epsilon, predictions_inv + epsilon)\n",
    "\n",
    "# Output evaluation metrics\n",
    "print('\\nModel Evaluation Metrics')\n",
    "print(f\"Test MAE: {mae:.2f}\")\n",
    "print(f\"Test MSE: {mse:.2f}\")\n",
    "print(f\"Test RMSE: {rmse:.2f}\")\n",
    "print(f\"Test MAPE: {mape * 100:.2f}%\\n\")  \n",
    "\n",
    "# Inverse transformation function \n",
    "def inverse_transform(data, scaler, reference_data):\n",
    "    return scaler.inverse_transform(np.concatenate((data, np.zeros((data.shape[0], reference_data.shape[1] - 1))), axis=1))[:, 0]\n",
    "\n",
    "# Compare actual vs predicted after inverse transformation\n",
    "comparison = pd.DataFrame({'Actual': y_test_inv.flatten(), 'Predicted': predictions_inv.flatten()})\n",
    "print(comparison.head())"
   ]
  },
  {
   "cell_type": "code",
   "execution_count": 13,
   "metadata": {},
   "outputs": [
    {
     "data": {
      "image/png": "[encoded data removed]",
      "text/plain": [
       "<Figure size 1400x700 with 1 Axes>"
      ]
     },
     "metadata": {},
     "output_type": "display_data"
    }
   ],
   "source": [
    "# Plotting the training set, test set, and predicted values\n",
    "plt.figure(figsize=(14, 7))\n",
    "\n",
    "# Assuming train_y, test_y are the actual train and test sets\n",
    "train_y_inv = inverse_transform(train_y_cv.reshape(-1, 1), scaler, train_std)\n",
    "\n",
    "# Plot training set\n",
    "plt.plot(range(len(train_y_inv)), train_y_inv, label='Training Set', color='blue')\n",
    "\n",
    "# Plot test set\n",
    "plt.plot(range(len(train_y_inv), len(train_y_inv) + len(y_test_inv)), y_test_inv, label='Test Set', color='green')\n",
    "\n",
    "# Plot predicted values\n",
    "plt.plot(range(len(train_y_inv), len(train_y_inv) + len(predictions_inv)), predictions_inv, label='Predicted', color='red', linestyle='--')\n",
    "\n",
    "plt.title('Training Set, Test Set, and Predicted Values - Median Hourly Wage ($)')\n",
    "plt.xlabel('Time Steps')\n",
    "plt.ylabel('Value')\n",
    "plt.legend()\n",
    "plt.show()"
   ]
  }
 ],
 "metadata": {
  "kernelspec": {
   "display_name": "base",
   "language": "python",
   "name": "python3"
  },
  "language_info": {
   "codemirror_mode": {
    "name": "ipython",
    "version": 3
   },
   "file_extension": ".py",
   "mimetype": "text/x-python",
   "name": "python",
   "nbconvert_exporter": "python",
   "pygments_lexer": "ipython3",
   "version": "3.12.4"
  }
 },
 "nbformat": 4,
 "nbformat_minor": 2
}
