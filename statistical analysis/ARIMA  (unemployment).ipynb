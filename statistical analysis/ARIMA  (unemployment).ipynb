{
 "cells": [
  {
   "cell_type": "markdown",
   "metadata": {},
   "source": [
    "# ARIMA Model - Training (1997-2020), Training (2021-2023)"
   ]
  },
  {
   "cell_type": "markdown",
   "metadata": {},
   "source": [
    "# Packages & Data Loading"
   ]
  },
  {
   "cell_type": "markdown",
   "metadata": {},
   "source": [
    "## Packages"
   ]
  },
  {
   "cell_type": "code",
   "execution_count": null,
   "metadata": {},
   "outputs": [],
   "source": [
    "# Import packages\n",
    "import pandas as pd\n",
    "import numpy as np\n",
    "import matplotlib.pyplot as plt\n",
    "from statsmodels.tsa.arima.model import ARIMA\n",
    "from sklearn.metrics import mean_squared_error\n",
    "from math import sqrt\n",
    "\n",
    "from statsmodels.graphics.tsaplots import plot_acf, plot_pacf\n",
    "from statsmodels.tsa.stattools import adfuller\n",
    "from sklearn.metrics import mean_squared_error\n",
    "from sklearn.model_selection import TimeSeriesSplit\n",
    "\n",
    "import gdown"
   ]
  },
  {
   "cell_type": "code",
   "execution_count": null,
   "metadata": {},
   "outputs": [],
   "source": [
    "from pandas.core.nanops import nanmean as pd_nanmean\n",
    "from statsmodels.graphics.tsaplots import plot_acf, plot_pacf\n",
    "from statsmodels.tsa import stattools\n",
    "from sklearn.linear_model import LinearRegression"
   ]
  },
  {
   "cell_type": "code",
   "execution_count": null,
   "metadata": {},
   "outputs": [],
   "source": [
    "# Show graphs\n",
    "%matplotlib inline"
   ]
  },
  {
   "cell_type": "markdown",
   "metadata": {},
   "source": [
    "## Data Loading"
   ]
  },
  {
   "cell_type": "code",
   "execution_count": null,
   "metadata": {},
   "outputs": [],
   "source": [
    "# Google Drive file \n",
    "file_id = '1RpF3UtvdnvwGilvP5KjQ2tA-hHDNKsnc'\n",
    "\n",
    "# Create the download URL\n",
    "download_url = f'https://drive.google.com/uc?export=download&id={file_id}'\n",
    "\n",
    "# Download the file \n",
    "output_path = 'cleaned_data.csv'\n",
    "gdown.download(download_url, output_path, quiet=False)\n",
    "\n",
    "# Load the CSV \n",
    "df = pd.read_csv(output_path, converters={'year': np.int32, 'month': np.int32})\n",
    "\n",
    "# Display the DataFrame \n",
    "print('Shape of the dataset:', df.shape)\n",
    "print(df.dtypes)"
   ]
  },
  {
   "cell_type": "code",
   "execution_count": null,
   "metadata": {},
   "outputs": [],
   "source": [
    "# Create a copy of the selected columns\n",
    "df_var = df[['ref_date', 'month', 'year', 'value_unemployment']].copy()\n",
    "\n",
    "print(df_var.head())"
   ]
  },
  {
   "cell_type": "code",
   "execution_count": null,
   "metadata": {},
   "outputs": [],
   "source": [
    "# Group df_var by 'ref_date' and calculate the median 'value_unemployment' for each date\n",
    "df_arima = df_var.groupby('ref_date').agg(\n",
    "    year=('year', 'first'),           # Take the first occurrence of 'year' for each date\n",
    "    month=('month', 'first'),         # Take the first occurrence of 'month' for each date\n",
    "    median_unemployment=('value_unemployment', 'median')  # Calculate the median 'value_unemployment' for each date\n",
    ").reset_index()\n",
    "\n",
    "print(df_arima)\n"
   ]
  },
  {
   "cell_type": "code",
   "execution_count": null,
   "metadata": {},
   "outputs": [],
   "source": [
    "# Shape of data, columns and their datatypes\n",
    "print('Shape of the dataset:', df_arima.shape)\n",
    "print(df_arima.dtypes)\n",
    "\n",
    "# Concert type of the Date column to datetime\n",
    "df_arima['ref_date'] = df_arima['year'].astype(str) + '-' + df_arima['month'].astype(str)\n",
    "df_arima['ref_date'] = pd.to_datetime(df_arima['ref_date'], format='%Y-%m')\n",
    "\n",
    "# set the Date column as index of the dataframe\n",
    "df_arima.set_index('ref_date', inplace=True)\n",
    "# Years\n",
    "df_arima.year.unique()"
   ]
  },
  {
   "cell_type": "code",
   "execution_count": null,
   "metadata": {},
   "outputs": [],
   "source": [
    "# Shape of data, columns and their datatypes\n",
    "print('Shape of the dataset:', df_arima.shape)\n",
    "print(df_arima.dtypes)"
   ]
  },
  {
   "cell_type": "markdown",
   "metadata": {},
   "source": [
    "# Stationarity"
   ]
  },
  {
   "cell_type": "code",
   "execution_count": null,
   "metadata": {},
   "outputs": [],
   "source": [
    "# Plot the dataset as a time series\n",
    "def ts_plot(X, xlabel='Time', ylabel='Observed Quantity', title='Time Series', height=8, width=15):\n",
    "  fig, ax = plt.subplots(figsize=(width, height))\n",
    "  markers = ['.','*', '.', 'o', '^']\n",
    "  colors = ['b', 'r', 'g', 'y']\n",
    "  # Add x-axis and y-axis\n",
    "  for i, xi in enumerate(X):\n",
    "    xi.plot(ax=ax, linestyle='-', marker=markers[i], color=colors[i])\n",
    "  # Set title and labels for axes\n",
    "  ax.set(xlabel=xlabel,\n",
    "         ylabel=ylabel,\n",
    "         title=title)\n",
    "  if len(X) > 1: # more than one series\n",
    "    ax.legend()\n",
    "  plt.show()\n",
    "\n",
    "ts_plot([df_arima.median_unemployment], xlabel='Year-Month', ylabel='Median Unemployment Rate', title='Median Unemployment Rate (1997-2023)' )"
   ]
  },
  {
   "cell_type": "markdown",
   "metadata": {},
   "source": [
    "## ACF & PACF"
   ]
  },
  {
   "cell_type": "markdown",
   "metadata": {},
   "source": [
    "Autocorrelation Function (ACF) & Partial Autocorrelation Function (PACF)"
   ]
  },
  {
   "cell_type": "code",
   "execution_count": null,
   "metadata": {},
   "outputs": [],
   "source": [
    "# Autocorrelations\n",
    "def acf_pacf_plotter(Xt, nlag=30, fig_size=(13, 5), alpha=0.05):\n",
    "    plt.figure(figsize=fig_size)\n",
    "    layout = (1, 2)\n",
    "\n",
    "    # Assign axes\n",
    "    ax_acf = plt.subplot2grid(layout, (0, 0))\n",
    "    ax_pacf = plt.subplot2grid(layout, (0, 1))\n",
    "\n",
    "    # Plot graphs\n",
    "    plot_acf(Xt.dropna(), alpha=alpha, lags=nlag, ax=ax_acf)\n",
    "    plot_pacf(Xt.dropna(), alpha=alpha, lags=nlag, ax=ax_pacf)\n",
    "\n",
    "    # Add an overall title for the figure\n",
    "    plt.suptitle('Median Unemployment Rate', fontsize=16)\n",
    "\n",
    "    plt.tight_layout()\n",
    "    plt.show()  # Ensures the plots are displayed\n",
    "\n",
    "# Example usage with specified parameters\n",
    "acf_pacf_plotter(df_arima.median_unemployment, nlag=15)"
   ]
  },
  {
   "cell_type": "markdown",
   "metadata": {},
   "source": [
    "### Value Difference - Median Unemployment"
   ]
  },
  {
   "cell_type": "code",
   "execution_count": null,
   "metadata": {},
   "outputs": [],
   "source": [
    "# Plot ACF and PACF to determine p and q\n",
    "plt.figure(figsize=(13, 5))\n",
    "\n",
    "# Add an overall title for the figure\n",
    "plt.suptitle('Value Difference - Median Unemployment Rate', fontsize=16)\n",
    "\n",
    "plt.subplot(121)\n",
    "plot_acf(df_arima['value_diff'].dropna() if 'value_diff' in df_arima else df_arima['median_unemployment'], \n",
    "         ax=plt.gca(), lags=30)\n",
    "plt.title(\"ACF Plot\")\n",
    "plt.subplot(122)\n",
    "plot_pacf(df_arima['value_diff'].dropna() if 'value_diff' in df_arima else df_arima['median_unemployment'], \n",
    "          ax=plt.gca(), lags=15)\n",
    "plt.title(\"PACF Plot\")\n",
    "plt.show()"
   ]
  },
  {
   "cell_type": "markdown",
   "metadata": {},
   "source": [
    "## ADF - Unemployment "
   ]
  },
  {
   "cell_type": "code",
   "execution_count": null,
   "metadata": {},
   "outputs": [],
   "source": [
    "# Perform ADF test on 'value' column to check for stationarity\n",
    "adf_test = adfuller(df_arima['median_unemployment'])\n",
    "print(\"\\nADF Test Results:\")\n",
    "print(f\"ADF Statistic: {adf_test[0]}\")\n",
    "print(f\"p-value: {adf_test[1]}\")\n",
    "if adf_test[1] < 0.05:\n",
    "    print(\"The data is stationary.\")\n",
    "else:\n",
    "    print(\"The data is not stationary. Differencing may be required.\")"
   ]
  },
  {
   "cell_type": "markdown",
   "metadata": {},
   "source": [
    "# Data Preparation"
   ]
  },
  {
   "cell_type": "markdown",
   "metadata": {},
   "source": [
    "## Index"
   ]
  },
  {
   "cell_type": "markdown",
   "metadata": {},
   "source": [
    "## Assigning Training & Testing Sets"
   ]
  },
  {
   "cell_type": "code",
   "execution_count": null,
   "metadata": {},
   "outputs": [],
   "source": [
    "# Split the data into training and testing sets\n",
    "train = df_arima['1997-01-01':'2020-12-01']\n",
    "test = df_arima['2021-01-01':'2023-12-01']\n",
    "\n",
    "print(train.head())\n",
    "print(train.tail())"
   ]
  },
  {
   "cell_type": "markdown",
   "metadata": {},
   "source": [
    "# Visualize the Training Data"
   ]
  },
  {
   "cell_type": "code",
   "execution_count": null,
   "metadata": {},
   "outputs": [],
   "source": [
    "df_monthly = train.resample('ME').mean()\n",
    "\n",
    "# Plot the data\n",
    "print('\\nMedian Monthly Unemployment Rate (Training Set)')\n",
    "plt.figure(figsize=(12, 6))\n",
    "plt.plot(df_monthly, color='blue', linewidth=1)\n",
    "plt.title('Monthly Median  Unemployment Rate Time Series (Training Set)')\n",
    "plt.xlabel('Months (January 1997 - December 2020)')\n",
    "plt.ylabel('Median Unemployment Rate')\n",
    "plt.xticks(rotation=45) \n",
    "plt.grid(True) \n",
    "plt.tight_layout()\n",
    "plt.show()\n",
    "\n",
    "\n",
    "df_annual = train.resample('YE').mean()\n",
    "\n",
    "# Plot the data\n",
    "print('\\n\\nMedian Annual Unemployment Rate (Training Set)')\n",
    "plt.figure(figsize=(12, 6))\n",
    "plt.plot(df_annual, color='blue', linewidth=1)\n",
    "plt.title('Yearly Median  Unemployment Rate Time Series (Training Set)')\n",
    "plt.xlabel('Year (1997-2020)')\n",
    "plt.ylabel('Median Unemployment Rate')\n",
    "plt.xticks(rotation=45) \n",
    "plt.grid(True)  \n",
    "plt.tight_layout()\n",
    "plt.show()"
   ]
  },
  {
   "cell_type": "code",
   "execution_count": null,
   "metadata": {},
   "outputs": [],
   "source": [
    "# Apply Transformation (Log Transformation to stabilize variance)\n",
    "median_unemployment_transformed = np.log(train + 1) \n",
    "\n",
    "# Re-check ACF/PACF on Transformed Data \n",
    "plt.figure(figsize=(12, 5))\n",
    "# Add an overall title for the figure\n",
    "plt.suptitle('Median Unemployment Rate (Transformed)', fontsize=16)\n",
    "plt.subplot(1, 2, 1)\n",
    "plot_acf(median_unemployment_transformed.dropna(), lags=40, ax=plt.gca())\n",
    "plt.title(\"ACF Plot (Transformed)\")\n",
    "plt.subplot(1, 2, 2)\n",
    "plot_pacf(median_unemployment_transformed.dropna(), lags=40, ax=plt.gca())\n",
    "plt.title(\"PACF Plot (Transformed)\")\n",
    "plt.tight_layout()\n",
    "plt.show()"
   ]
  },
  {
   "cell_type": "markdown",
   "metadata": {},
   "source": [
    "## Cross Validation"
   ]
  },
  {
   "cell_type": "code",
   "execution_count": null,
   "metadata": {},
   "outputs": [],
   "source": [
    "# 4. Define Cross-Validation Procedure\n",
    "tscv = TimeSeriesSplit(n_splits=5)"
   ]
  },
  {
   "cell_type": "code",
   "execution_count": null,
   "metadata": {},
   "outputs": [],
   "source": [
    "# 5. Perform Cross-Validation\n",
    "cv_mse_scores = []\n",
    "for train_index, val_index in tscv.split(train_data):\n",
    "    train_cv, val_cv = train_data.iloc[train_index], train_data.iloc[val_index]\n",
    "    \n",
    "    # Fit the ARIMA model\n",
    "    model = ARIMA(train_cv, order=(1, 1, 1))\n",
    "    model_fit = model.fit()\n",
    "    \n",
    "    # Forecast\n",
    "    forecast = model_fit.forecast(steps=len(val_cv))\n",
    "    \n",
    "    # Calculate Mean Squared Error\n",
    "    mse = mean_squared_error(val_cv, forecast)\n",
    "    cv_mse_scores.append(mse)\n",
    "\n",
    "print('Cross-Validation Mean Squared Error:', np.mean(cv_mse_scores))"
   ]
  },
  {
   "cell_type": "code",
   "execution_count": null,
   "metadata": {},
   "outputs": [],
   "source": [
    "# Index 'ref_date' column\n",
    "df['ref_date'] = pd.to_datetime(df['ref_date'])  # Convert date column to datetime\n",
    "df.set_index('ref_date', inplace=True)       # Set date as the index"
   ]
  }
 ],
 "metadata": {
  "kernelspec": {
   "display_name": "base",
   "language": "python",
   "name": "python3"
  },
  "language_info": {
   "codemirror_mode": {
    "name": "ipython",
    "version": 3
   },
   "file_extension": ".py",
   "mimetype": "text/x-python",
   "name": "python",
   "nbconvert_exporter": "python",
   "pygments_lexer": "ipython3",
   "version": "3.12.4"
  }
 },
 "nbformat": 4,
 "nbformat_minor": 2
}
