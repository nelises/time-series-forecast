{
 "cells": [
  {
   "cell_type": "markdown",
   "metadata": {},
   "source": [
    "# FB Prophet Model - Unemployment Rate (%)\n",
    "\n",
    "Training (1997-2020), Training (2021-2023)"
   ]
  },
  {
   "cell_type": "markdown",
   "metadata": {},
   "source": [
    "# Packages & Data Loading"
   ]
  },
  {
   "cell_type": "markdown",
   "metadata": {},
   "source": [
    "## Packages"
   ]
  },
  {
   "cell_type": "code",
   "execution_count": 1,
   "metadata": {},
   "outputs": [],
   "source": [
    "# Import packages\n",
    "import pandas as pd\n",
    "import numpy as np\n",
    "from prophet import Prophet\n",
    "\n",
    "import gdown\n",
    "import requests\n",
    "from io import StringIO\n",
    "\n",
    "from prophet.diagnostics import cross_validation, performance_metrics\n",
    "from sklearn.metrics import mean_squared_error, mean_absolute_error\n",
    "\n",
    "from prophet.plot import plot_plotly, plot_components_plotly\n",
    "import plotly.graph_objects as go"
   ]
  },
  {
   "cell_type": "markdown",
   "metadata": {},
   "source": [
    "## Data Loading"
   ]
  },
  {
   "cell_type": "code",
   "execution_count": null,
   "metadata": {},
   "outputs": [],
   "source": [
    "# Google Drive file\n",
    "file_id = '117pk3NKZPfYmHQyP452HeMV7_8Jq6_W0'\n",
    "\n",
    "# Create the download URL\n",
    "download_url = f'https://drive.google.com/uc?export=download&id={file_id}'\n",
    "\n",
    "# Use requests to get file content\n",
    "response = requests.get(download_url)\n",
    "response.raise_for_status()  \n",
    "\n",
    "# Load the CSV directly into df\n",
    "csv_data = StringIO(response.text)\n",
    "df = pd.read_csv(csv_data)\n",
    "\n",
    "# Display data\n",
    "print('Shape of the dataset:', df.shape)\n",
    "print(df.dtypes)"
   ]
  },
  {
   "cell_type": "code",
   "execution_count": null,
   "metadata": {},
   "outputs": [],
   "source": [
    "# Create a copy with selected columns\n",
    "df_var = df[['ref_date', 'value_unemployment']].copy()\n",
    "\n",
    "print(df_var.head())"
   ]
  },
  {
   "cell_type": "code",
   "execution_count": null,
   "metadata": {},
   "outputs": [],
   "source": [
    "# Group df_var by 'ref_date' and calculate the median 'value_unemployment'\n",
    "df_fb = df_var.groupby('ref_date').agg(\n",
    "    median_unemployment=('value_unemployment', 'median')  # Calculate the median \n",
    ").reset_index()\n",
    "\n",
    "print(df_fb)"
   ]
  },
  {
   "cell_type": "code",
   "execution_count": null,
   "metadata": {},
   "outputs": [],
   "source": [
    "# Display shape and data types \n",
    "print('Shape of the dataset:\\n', df_var.shape)\n",
    "print(df_fb.dtypes)\n",
    "\n",
    "# Convert 'ref_date' to datetime\n",
    "df_fb['ref_date'] = pd.to_datetime(df_fb['ref_date'])\n",
    "\n",
    "# Set 'ref_date' as the index \n",
    "df_fb = df_fb.set_index('ref_date')\n",
    "\n",
    "# Verify the index is set and DatetimeIndex\n",
    "print('\\n\\nIndex after setting ref_date:\\n', df_fb.head().index)\n",
    "print('\\n\\nData types after setting index:\\n', df_fb.dtypes)\n",
    "print('\\n\\nDataset:\\n', df_fb.head(2))"
   ]
  },
  {
   "cell_type": "markdown",
   "metadata": {},
   "source": [
    "# FB Prophet Model"
   ]
  },
  {
   "cell_type": "markdown",
   "metadata": {},
   "source": [
    "## Assign Training & Testing Sets"
   ]
  },
  {
   "cell_type": "code",
   "execution_count": null,
   "metadata": {},
   "outputs": [],
   "source": [
    "# Split into training and testing sets\n",
    "train = df_fb['1997-01-01':'2020-12-01']\n",
    "test = df_fb['2021-01-01':'2023-12-01']\n",
    "\n",
    "print(train.head())\n",
    "print(train.tail())"
   ]
  },
  {
   "cell_type": "code",
   "execution_count": null,
   "metadata": {},
   "outputs": [],
   "source": [
    "# Prepare data for Prophet\n",
    "train = train.reset_index()  # Reset index to make 'ref_date' a column\n",
    "train.rename(columns={'ref_date': 'ds', 'median_unemployment': 'y'}, inplace=True)\n",
    "\n",
    "# Prepare data for Prophet\n",
    "test = test.reset_index()  # Reset index to make 'ref_date' a column\n",
    "test.rename(columns={'ref_date': 'ds', 'median_unemployment': 'y'}, inplace=True)"
   ]
  },
  {
   "cell_type": "markdown",
   "metadata": {},
   "source": [
    "## Model Fitting"
   ]
  },
  {
   "cell_type": "code",
   "execution_count": null,
   "metadata": {},
   "outputs": [],
   "source": [
    "# Fit model\n",
    "model = Prophet(yearly_seasonality=True)\n",
    "model.fit(train)"
   ]
  },
  {
   "cell_type": "markdown",
   "metadata": {},
   "source": [
    "## Cross Validation"
   ]
  },
  {
   "cell_type": "code",
   "execution_count": null,
   "metadata": {},
   "outputs": [],
   "source": [
    "# Cross validation\n",
    "df_cv = cross_validation(model, initial='730 days', period='180 days', horizon = '365 days')\n",
    "df_p = performance_metrics(df_cv)\n",
    "df_p.head()"
   ]
  },
  {
   "cell_type": "markdown",
   "metadata": {},
   "source": [
    "## Model Predictions"
   ]
  },
  {
   "cell_type": "code",
   "execution_count": null,
   "metadata": {},
   "outputs": [],
   "source": [
    "# Predictions\n",
    "future = model.make_future_dataframe(periods=36, freq='ME')\n",
    "future.tail()"
   ]
  },
  {
   "cell_type": "code",
   "execution_count": null,
   "metadata": {},
   "outputs": [],
   "source": [
    "# Prediction columns \n",
    "forecast = model.predict(future)\n",
    "forecast[['ds', 'yhat', 'yhat_lower', 'yhat_upper']].tail()"
   ]
  },
  {
   "cell_type": "code",
   "execution_count": null,
   "metadata": {},
   "outputs": [],
   "source": [
    "# Ensure alignment between forecast and test data\n",
    "forecasted_values = forecast.tail(len(test)) "
   ]
  },
  {
   "cell_type": "code",
   "execution_count": null,
   "metadata": {},
   "outputs": [],
   "source": [
    "# Merge actuals and predictions\n",
    "evaluation = test.copy()\n",
    "evaluation['yhat'] = forecasted_values['yhat']\n",
    "evaluation['yhat_lower'] = forecasted_values['yhat_lower']\n",
    "evaluation['yhat_upper'] = forecasted_values['yhat_upper']\n",
    "\n",
    "# Calculate performance metrics\n",
    "actuals = evaluation['y'].values\n",
    "predictions = evaluation['yhat'].values\n",
    "\n",
    "# Metrics calculation\n",
    "mse = mean_squared_error(actuals, predictions)\n",
    "rmse = np.sqrt(mse)\n",
    "mae = mean_absolute_error(actuals, predictions)\n",
    "\n",
    "# Handle zero or near-zero actuals for MAPE\n",
    "epsilon = 1e-10\n",
    "valid_indices = actuals > epsilon\n",
    "if valid_indices.any():\n",
    "    mape = np.mean(np.abs((actuals[valid_indices] - predictions[valid_indices]) / (actuals[valid_indices] + epsilon))) * 100\n",
    "else:\n",
    "    mape = np.nan\n",
    "\n",
    "# Print final model evaluation statistics\n",
    "print(f\"Final Model Evaluation:\")\n",
    "print(f\"Mean Squared Error (MSE): {mse}\")\n",
    "print(f\"Root Mean Squared Error (RMSE): {rmse}\")\n",
    "print(f\"Mean Absolute Error (MAE): {mae}\")\n",
    "print(f\"Mean Absolute Percentage Error (MAPE): {mape}\")"
   ]
  },
  {
   "cell_type": "markdown",
   "metadata": {},
   "source": [
    "# Visualizations"
   ]
  },
  {
   "cell_type": "code",
   "execution_count": null,
   "metadata": {},
   "outputs": [],
   "source": [
    "# Generate plot\n",
    "fig = plot_plotly(model, forecast)\n",
    "\n",
    "# Add labels and title\n",
    "fig.update_layout(\n",
    "    title=\"Prophet Forecast\",                 \n",
    "    xaxis_title=\"Date\",                       \n",
    "    yaxis_title=\"Median Unemployment\",        \n",
    "    legend_title=\"Legend\",                   \n",
    "    font=dict(size=12),                       \n",
    ")\n",
    "\n",
    "# Show plot\n",
    "fig.show()"
   ]
  },
  {
   "cell_type": "code",
   "execution_count": null,
   "metadata": {},
   "outputs": [],
   "source": [
    "# Generate plot\n",
    "fig = plot_plotly(model, forecast)\n",
    "\n",
    "# Add test data \n",
    "fig.add_trace(\n",
    "    go.Scatter(\n",
    "        x=test['ds'],  # x-axis (test data dates)\n",
    "        y=test['y'],  # y-axis (actual values)\n",
    "        mode='markers+lines',\n",
    "        name='True Values (Test Data)',\n",
    "        line=dict(color='red', dash='dot'),  \n",
    "        marker=dict(color='red')\n",
    "    )\n",
    ")\n",
    "\n",
    "# Adjust x-axis range (2021-2023)\n",
    "fig.update_layout(\n",
    "    xaxis=dict(\n",
    "        range=['2021-01-01', '2023-12-31'],  # Set x-axis range\n",
    "        title='Date',  # Add x-axis title\n",
    "    ),\n",
    "    yaxis=dict(\n",
    "        title='Median Unemployment Rate',  # Add y-axis title\n",
    "    ),\n",
    "    title='Prophet Forecast with Test Data (2021-2023)',  # Add plot title\n",
    ")\n",
    "\n",
    "# Show plot\n",
    "fig.show()"
   ]
  },
  {
   "cell_type": "code",
   "execution_count": null,
   "metadata": {},
   "outputs": [],
   "source": [
    "# Generate plot\n",
    "fig = plot_components_plotly(model, forecast)\n",
    "\n",
    "# Add title and labels\n",
    "fig.update_layout(\n",
    "    title=\"Prophet Forecast\",     \n",
    "    font=dict(size=12),                      \n",
    ")       \n",
    "\n",
    "# Show plot\n",
    "fig.show()"
   ]
  }
 ],
 "metadata": {
  "kernelspec": {
   "display_name": "base",
   "language": "python",
   "name": "python3"
  },
  "language_info": {
   "codemirror_mode": {
    "name": "ipython",
    "version": 3
   },
   "file_extension": ".py",
   "mimetype": "text/x-python",
   "name": "python",
   "nbconvert_exporter": "python",
   "pygments_lexer": "ipython3",
   "version": "3.12.4"
  }
 },
 "nbformat": 4,
 "nbformat_minor": 2
}
