{
 "cells": [
  {
   "cell_type": "markdown",
   "metadata": {},
   "source": [
    "# FB Prophet Model - Wage Rate ($)\n",
    "\n",
    "Training (1997-2020), Training (2021-2023)"
   ]
  },
  {
   "cell_type": "markdown",
   "metadata": {},
   "source": [
    "# Packages & Data Loading"
   ]
  },
  {
   "cell_type": "code",
   "execution_count": 1,
   "metadata": {},
   "outputs": [],
   "source": [
    "# Import packages\n",
    "import pandas as pd\n",
    "import numpy as np\n",
    "from prophet import Prophet\n",
    "from prophet.diagnostics import cross_validation, performance_metrics\n",
    "from sklearn.metrics import mean_squared_error, mean_absolute_error\n",
    "import optuna\n",
    "from io import StringIO\n",
    "import requests\n",
    "import matplotlib.pyplot as plt\n",
    "\n",
    "from prophet.plot import plot_plotly, plot_components_plotly\n",
    "import plotly.graph_objects as go\n",
    "import plotly.io as pio"
   ]
  },
  {
   "cell_type": "markdown",
   "metadata": {},
   "source": [
    "## Data Loading"
   ]
  },
  {
   "cell_type": "code",
   "execution_count": 2,
   "metadata": {},
   "outputs": [],
   "source": [
    "# Load data from Google Drive\n",
    "file_id = '117pk3NKZPfYmHQyP452HeMV7_8Jq6_W0'\n",
    "\n",
    "# Create the download URL\n",
    "download_url = f'https://drive.google.com/uc?export=download&id={file_id}'\n",
    "\n",
    "# Use requests to get file content\n",
    "response = requests.get(download_url)\n",
    "response.raise_for_status()  # Ensure no error occurred\n",
    "\n",
    "# Load the CSV directly into a DataFrame\n",
    "csv_data = StringIO(response.text)\n",
    "df = pd.read_csv(csv_data)"
   ]
  },
  {
   "cell_type": "code",
   "execution_count": 3,
   "metadata": {},
   "outputs": [],
   "source": [
    "# Prepare and process data\n",
    "df_selected = df[['ref_date', 'value_wage']].copy()\n",
    "df_grouped = df_selected.groupby('ref_date').agg(\n",
    "    median_wage=('value_wage', 'median')\n",
    ").reset_index()\n",
    "df_grouped['ref_date'] = pd.to_datetime(df_grouped['ref_date'])\n",
    "df_grouped.set_index('ref_date', inplace=True)"
   ]
  },
  {
   "cell_type": "markdown",
   "metadata": {},
   "source": [
    "# FB Prophet Model"
   ]
  },
  {
   "cell_type": "markdown",
   "metadata": {},
   "source": [
    "## Assign Training & Testing Sets"
   ]
  },
  {
   "cell_type": "code",
   "execution_count": 4,
   "metadata": {},
   "outputs": [],
   "source": [
    "# Split into training and testing sets\n",
    "train_data = df_grouped['1997-01-01':'2020-12-01']\n",
    "test_data = df_grouped['2021-01-01':'2023-12-01']\n",
    "train_data = train_data.reset_index().rename(columns={'ref_date': 'ds', 'median_wage': 'y'})\n",
    "test_data = test_data.reset_index().rename(columns={'ref_date': 'ds', 'median_wage': 'y'})\n"
   ]
  },
  {
   "cell_type": "markdown",
   "metadata": {},
   "source": [
    "# Cross Validation"
   ]
  },
  {
   "cell_type": "code",
   "execution_count": 5,
   "metadata": {},
   "outputs": [],
   "source": [
    "# Optuna optimization\n",
    "def optimize_prophet(trial):\n",
    "    # Define hyperparameters\n",
    "    changepoint_prior_scale = trial.suggest_float('changepoint_prior_scale', 0.001, 0.5, log=True)\n",
    "    seasonality_prior_scale = trial.suggest_float('seasonality_prior_scale', 0.01, 10.0, log=True)\n",
    "    holidays_prior_scale = trial.suggest_float('holidays_prior_scale', 0.01, 10.0, log=True)\n",
    "    seasonality_mode = trial.suggest_categorical('seasonality_mode', ['additive', 'multiplicative'])\n",
    "\n",
    "    # Initialize model with suggested parameters\n",
    "    model = Prophet(\n",
    "        changepoint_prior_scale=changepoint_prior_scale,\n",
    "        seasonality_prior_scale=seasonality_prior_scale,\n",
    "        holidays_prior_scale=holidays_prior_scale,\n",
    "        seasonality_mode=seasonality_mode\n",
    "    )\n",
    "    model.fit(train_data)\n",
    "\n",
    "    # Perform cross-validation\n",
    "    df_cv = cross_validation(model, initial='7300 days', period='365 days', horizon='365 days')\n",
    "    df_p = performance_metrics(df_cv)\n",
    "    return df_p['rmse'].mean()"
   ]
  },
  {
   "cell_type": "markdown",
   "metadata": {},
   "source": [
    "# Model Parameters"
   ]
  },
  {
   "cell_type": "code",
   "execution_count": 6,
   "metadata": {},
   "outputs": [
    {
     "name": "stderr",
     "output_type": "stream",
     "text": [
      "[I 2024-11-30 22:30:35,761] A new study created in memory with name: no-name-b116256d-393f-4d71-829a-95ed5322e403\n",
      "22:30:36 - cmdstanpy - INFO - Chain [1] start processing\n",
      "22:30:36 - cmdstanpy - INFO - Chain [1] done processing\n"
     ]
    },
    {
     "data": {
      "application/vnd.jupyter.widget-view+json": {
       "model_id": "c3d9f3ac60704028a47fa773b276b102",
       "version_major": 2,
       "version_minor": 0
      },
      "text/plain": [
       "  0%|          | 0/3 [00:00<?, ?it/s]"
      ]
     },
     "metadata": {},
     "output_type": "display_data"
    },
    {
     "name": "stderr",
     "output_type": "stream",
     "text": [
      "22:30:36 - cmdstanpy - INFO - Chain [1] start processing\n",
      "22:30:36 - cmdstanpy - INFO - Chain [1] done processing\n",
      "22:30:36 - cmdstanpy - INFO - Chain [1] start processing\n",
      "22:30:36 - cmdstanpy - INFO - Chain [1] done processing\n",
      "22:30:36 - cmdstanpy - INFO - Chain [1] start processing\n",
      "22:30:36 - cmdstanpy - INFO - Chain [1] done processing\n",
      "[I 2024-11-30 22:30:37,011] Trial 0 finished with value: 0.48311363540660285 and parameters: {'changepoint_prior_scale': 0.06981975510339433, 'seasonality_prior_scale': 0.02667753985891395, 'holidays_prior_scale': 1.846334419236635, 'seasonality_mode': 'additive'}. Best is trial 0 with value: 0.48311363540660285.\n",
      "22:30:37 - cmdstanpy - INFO - Chain [1] start processing\n",
      "22:30:37 - cmdstanpy - INFO - Chain [1] done processing\n"
     ]
    },
    {
     "data": {
      "application/vnd.jupyter.widget-view+json": {
       "model_id": "73c75a039ac84081909a17d2a8f18df6",
       "version_major": 2,
       "version_minor": 0
      },
      "text/plain": [
       "  0%|          | 0/3 [00:00<?, ?it/s]"
      ]
     },
     "metadata": {},
     "output_type": "display_data"
    },
    {
     "name": "stderr",
     "output_type": "stream",
     "text": [
      "22:30:37 - cmdstanpy - INFO - Chain [1] start processing\n",
      "22:30:37 - cmdstanpy - INFO - Chain [1] done processing\n",
      "22:30:37 - cmdstanpy - INFO - Chain [1] start processing\n",
      "22:30:37 - cmdstanpy - INFO - Chain [1] done processing\n",
      "22:30:37 - cmdstanpy - INFO - Chain [1] start processing\n",
      "22:30:37 - cmdstanpy - INFO - Chain [1] done processing\n",
      "[I 2024-11-30 22:30:37,850] Trial 1 finished with value: 0.5322448558599576 and parameters: {'changepoint_prior_scale': 0.0031484955145449165, 'seasonality_prior_scale': 0.05565910284294348, 'holidays_prior_scale': 0.0941060492702703, 'seasonality_mode': 'multiplicative'}. Best is trial 0 with value: 0.48311363540660285.\n",
      "22:30:37 - cmdstanpy - INFO - Chain [1] start processing\n",
      "22:30:38 - cmdstanpy - INFO - Chain [1] done processing\n"
     ]
    },
    {
     "data": {
      "application/vnd.jupyter.widget-view+json": {
       "model_id": "7acb84d707d7436a927384cb54f7f164",
       "version_major": 2,
       "version_minor": 0
      },
      "text/plain": [
       "  0%|          | 0/3 [00:00<?, ?it/s]"
      ]
     },
     "metadata": {},
     "output_type": "display_data"
    },
    {
     "name": "stderr",
     "output_type": "stream",
     "text": [
      "22:30:38 - cmdstanpy - INFO - Chain [1] start processing\n",
      "22:30:38 - cmdstanpy - INFO - Chain [1] done processing\n",
      "22:30:38 - cmdstanpy - INFO - Chain [1] start processing\n",
      "22:30:38 - cmdstanpy - INFO - Chain [1] done processing\n",
      "22:30:38 - cmdstanpy - INFO - Chain [1] start processing\n",
      "22:30:38 - cmdstanpy - INFO - Chain [1] done processing\n",
      "[I 2024-11-30 22:30:38,804] Trial 2 finished with value: 0.4824862657080922 and parameters: {'changepoint_prior_scale': 0.08435329164458677, 'seasonality_prior_scale': 0.5768841176191517, 'holidays_prior_scale': 1.2570648234754236, 'seasonality_mode': 'additive'}. Best is trial 2 with value: 0.4824862657080922.\n",
      "22:30:38 - cmdstanpy - INFO - Chain [1] start processing\n",
      "22:30:39 - cmdstanpy - INFO - Chain [1] done processing\n"
     ]
    },
    {
     "data": {
      "application/vnd.jupyter.widget-view+json": {
       "model_id": "3b9663c9e2a84b1eada81a00b41e2c52",
       "version_major": 2,
       "version_minor": 0
      },
      "text/plain": [
       "  0%|          | 0/3 [00:00<?, ?it/s]"
      ]
     },
     "metadata": {},
     "output_type": "display_data"
    },
    {
     "name": "stderr",
     "output_type": "stream",
     "text": [
      "22:30:39 - cmdstanpy - INFO - Chain [1] start processing\n",
      "22:30:39 - cmdstanpy - INFO - Chain [1] done processing\n",
      "22:30:39 - cmdstanpy - INFO - Chain [1] start processing\n",
      "22:30:39 - cmdstanpy - INFO - Chain [1] done processing\n",
      "22:30:39 - cmdstanpy - INFO - Chain [1] start processing\n",
      "22:30:39 - cmdstanpy - INFO - Chain [1] done processing\n",
      "[I 2024-11-30 22:30:39,793] Trial 3 finished with value: 0.48330930829720936 and parameters: {'changepoint_prior_scale': 0.065635755510668, 'seasonality_prior_scale': 0.5137497696652035, 'holidays_prior_scale': 0.01672321325815274, 'seasonality_mode': 'additive'}. Best is trial 2 with value: 0.4824862657080922.\n",
      "22:30:39 - cmdstanpy - INFO - Chain [1] start processing\n",
      "22:30:40 - cmdstanpy - INFO - Chain [1] done processing\n"
     ]
    },
    {
     "data": {
      "application/vnd.jupyter.widget-view+json": {
       "model_id": "33c795f921ac4b73bb62f7391900b410",
       "version_major": 2,
       "version_minor": 0
      },
      "text/plain": [
       "  0%|          | 0/3 [00:00<?, ?it/s]"
      ]
     },
     "metadata": {},
     "output_type": "display_data"
    },
    {
     "name": "stderr",
     "output_type": "stream",
     "text": [
      "22:30:40 - cmdstanpy - INFO - Chain [1] start processing\n",
      "22:30:40 - cmdstanpy - INFO - Chain [1] done processing\n",
      "22:30:40 - cmdstanpy - INFO - Chain [1] start processing\n",
      "22:30:40 - cmdstanpy - INFO - Chain [1] done processing\n",
      "22:30:40 - cmdstanpy - INFO - Chain [1] start processing\n",
      "22:30:40 - cmdstanpy - INFO - Chain [1] done processing\n",
      "[I 2024-11-30 22:30:40,998] Trial 4 finished with value: 0.4741260143546452 and parameters: {'changepoint_prior_scale': 0.4947846744810574, 'seasonality_prior_scale': 0.04526500412357641, 'holidays_prior_scale': 0.212332384407704, 'seasonality_mode': 'additive'}. Best is trial 4 with value: 0.4741260143546452.\n",
      "22:30:41 - cmdstanpy - INFO - Chain [1] start processing\n",
      "22:30:41 - cmdstanpy - INFO - Chain [1] done processing\n"
     ]
    },
    {
     "data": {
      "application/vnd.jupyter.widget-view+json": {
       "model_id": "dc94225859114a1bacbe8c466718b579",
       "version_major": 2,
       "version_minor": 0
      },
      "text/plain": [
       "  0%|          | 0/3 [00:00<?, ?it/s]"
      ]
     },
     "metadata": {},
     "output_type": "display_data"
    },
    {
     "name": "stderr",
     "output_type": "stream",
     "text": [
      "22:30:41 - cmdstanpy - INFO - Chain [1] start processing\n",
      "22:30:41 - cmdstanpy - INFO - Chain [1] done processing\n",
      "22:30:41 - cmdstanpy - INFO - Chain [1] start processing\n",
      "22:30:41 - cmdstanpy - INFO - Chain [1] done processing\n",
      "22:30:41 - cmdstanpy - INFO - Chain [1] start processing\n",
      "22:30:41 - cmdstanpy - INFO - Chain [1] done processing\n",
      "[I 2024-11-30 22:30:41,877] Trial 5 finished with value: 0.45033555299791495 and parameters: {'changepoint_prior_scale': 0.0031147029051255214, 'seasonality_prior_scale': 0.14963302181218952, 'holidays_prior_scale': 7.088341093750951, 'seasonality_mode': 'additive'}. Best is trial 5 with value: 0.45033555299791495.\n",
      "22:30:42 - cmdstanpy - INFO - Chain [1] start processing\n",
      "22:30:42 - cmdstanpy - INFO - Chain [1] done processing\n"
     ]
    },
    {
     "data": {
      "application/vnd.jupyter.widget-view+json": {
       "model_id": "8c63f864ca6b49479dbde812669fcc6b",
       "version_major": 2,
       "version_minor": 0
      },
      "text/plain": [
       "  0%|          | 0/3 [00:00<?, ?it/s]"
      ]
     },
     "metadata": {},
     "output_type": "display_data"
    },
    {
     "name": "stderr",
     "output_type": "stream",
     "text": [
      "22:30:42 - cmdstanpy - INFO - Chain [1] start processing\n",
      "22:30:42 - cmdstanpy - INFO - Chain [1] done processing\n",
      "22:30:42 - cmdstanpy - INFO - Chain [1] start processing\n",
      "22:30:42 - cmdstanpy - INFO - Chain [1] done processing\n",
      "22:30:42 - cmdstanpy - INFO - Chain [1] start processing\n",
      "22:30:42 - cmdstanpy - INFO - Chain [1] done processing\n",
      "[I 2024-11-30 22:30:42,862] Trial 6 finished with value: 0.5380340239781956 and parameters: {'changepoint_prior_scale': 0.041154819541365524, 'seasonality_prior_scale': 1.127697257421715, 'holidays_prior_scale': 9.230240006966385, 'seasonality_mode': 'multiplicative'}. Best is trial 5 with value: 0.45033555299791495.\n",
      "22:30:42 - cmdstanpy - INFO - Chain [1] start processing\n",
      "22:30:43 - cmdstanpy - INFO - Chain [1] done processing\n"
     ]
    },
    {
     "data": {
      "application/vnd.jupyter.widget-view+json": {
       "model_id": "789ea7a78613481bb40dbf894410ce47",
       "version_major": 2,
       "version_minor": 0
      },
      "text/plain": [
       "  0%|          | 0/3 [00:00<?, ?it/s]"
      ]
     },
     "metadata": {},
     "output_type": "display_data"
    },
    {
     "name": "stderr",
     "output_type": "stream",
     "text": [
      "22:30:43 - cmdstanpy - INFO - Chain [1] start processing\n",
      "22:30:43 - cmdstanpy - INFO - Chain [1] done processing\n",
      "22:30:43 - cmdstanpy - INFO - Chain [1] start processing\n",
      "22:30:43 - cmdstanpy - INFO - Chain [1] done processing\n",
      "22:30:43 - cmdstanpy - INFO - Chain [1] start processing\n",
      "22:30:43 - cmdstanpy - INFO - Chain [1] done processing\n",
      "[I 2024-11-30 22:30:43,733] Trial 7 finished with value: 0.45484486261255785 and parameters: {'changepoint_prior_scale': 0.002220508543825566, 'seasonality_prior_scale': 1.8856496528420434, 'holidays_prior_scale': 0.015091394079903188, 'seasonality_mode': 'additive'}. Best is trial 5 with value: 0.45033555299791495.\n",
      "22:30:43 - cmdstanpy - INFO - Chain [1] start processing\n",
      "22:30:43 - cmdstanpy - INFO - Chain [1] done processing\n"
     ]
    },
    {
     "data": {
      "application/vnd.jupyter.widget-view+json": {
       "model_id": "a2c84606fe4c436f8fbb2263aaa232ac",
       "version_major": 2,
       "version_minor": 0
      },
      "text/plain": [
       "  0%|          | 0/3 [00:00<?, ?it/s]"
      ]
     },
     "metadata": {},
     "output_type": "display_data"
    },
    {
     "name": "stderr",
     "output_type": "stream",
     "text": [
      "22:30:44 - cmdstanpy - INFO - Chain [1] start processing\n",
      "22:30:44 - cmdstanpy - INFO - Chain [1] done processing\n",
      "22:30:44 - cmdstanpy - INFO - Chain [1] start processing\n",
      "22:30:44 - cmdstanpy - INFO - Chain [1] done processing\n",
      "22:30:44 - cmdstanpy - INFO - Chain [1] start processing\n",
      "22:30:44 - cmdstanpy - INFO - Chain [1] done processing\n",
      "[I 2024-11-30 22:30:44,624] Trial 8 finished with value: 0.4593495890909454 and parameters: {'changepoint_prior_scale': 0.0017061203812778541, 'seasonality_prior_scale': 0.7167971207242897, 'holidays_prior_scale': 0.1028558118036449, 'seasonality_mode': 'additive'}. Best is trial 5 with value: 0.45033555299791495.\n",
      "22:30:44 - cmdstanpy - INFO - Chain [1] start processing\n",
      "22:30:44 - cmdstanpy - INFO - Chain [1] done processing\n"
     ]
    },
    {
     "data": {
      "application/vnd.jupyter.widget-view+json": {
       "model_id": "9fc23853311544919ac5fd72e9f5bf07",
       "version_major": 2,
       "version_minor": 0
      },
      "text/plain": [
       "  0%|          | 0/3 [00:00<?, ?it/s]"
      ]
     },
     "metadata": {},
     "output_type": "display_data"
    },
    {
     "name": "stderr",
     "output_type": "stream",
     "text": [
      "22:30:44 - cmdstanpy - INFO - Chain [1] start processing\n",
      "22:30:45 - cmdstanpy - INFO - Chain [1] done processing\n",
      "22:30:45 - cmdstanpy - INFO - Chain [1] start processing\n",
      "22:30:45 - cmdstanpy - INFO - Chain [1] done processing\n",
      "22:30:45 - cmdstanpy - INFO - Chain [1] start processing\n",
      "22:30:45 - cmdstanpy - INFO - Chain [1] done processing\n",
      "[I 2024-11-30 22:30:45,623] Trial 9 finished with value: 0.48398232985310286 and parameters: {'changepoint_prior_scale': 0.05558810361721055, 'seasonality_prior_scale': 0.0377921936057463, 'holidays_prior_scale': 1.7964200034134477, 'seasonality_mode': 'additive'}. Best is trial 5 with value: 0.45033555299791495.\n",
      "22:30:45 - cmdstanpy - INFO - Chain [1] start processing\n",
      "22:30:45 - cmdstanpy - INFO - Chain [1] done processing\n"
     ]
    },
    {
     "data": {
      "application/vnd.jupyter.widget-view+json": {
       "model_id": "a20fa89470324ef68855512d653ede48",
       "version_major": 2,
       "version_minor": 0
      },
      "text/plain": [
       "  0%|          | 0/3 [00:00<?, ?it/s]"
      ]
     },
     "metadata": {},
     "output_type": "display_data"
    },
    {
     "name": "stderr",
     "output_type": "stream",
     "text": [
      "22:30:45 - cmdstanpy - INFO - Chain [1] start processing\n",
      "22:30:46 - cmdstanpy - INFO - Chain [1] done processing\n",
      "22:30:46 - cmdstanpy - INFO - Chain [1] start processing\n",
      "22:30:46 - cmdstanpy - INFO - Chain [1] done processing\n",
      "22:30:46 - cmdstanpy - INFO - Chain [1] start processing\n",
      "22:30:46 - cmdstanpy - INFO - Chain [1] done processing\n",
      "[I 2024-11-30 22:30:46,565] Trial 10 finished with value: 0.5470337036197055 and parameters: {'changepoint_prior_scale': 0.008434576291866544, 'seasonality_prior_scale': 5.956546086580781, 'holidays_prior_scale': 9.662135310295302, 'seasonality_mode': 'multiplicative'}. Best is trial 5 with value: 0.45033555299791495.\n",
      "22:30:46 - cmdstanpy - INFO - Chain [1] start processing\n",
      "22:30:46 - cmdstanpy - INFO - Chain [1] done processing\n"
     ]
    },
    {
     "data": {
      "application/vnd.jupyter.widget-view+json": {
       "model_id": "b0b14f3b18444fb39b09e79f29772286",
       "version_major": 2,
       "version_minor": 0
      },
      "text/plain": [
       "  0%|          | 0/3 [00:00<?, ?it/s]"
      ]
     },
     "metadata": {},
     "output_type": "display_data"
    },
    {
     "name": "stderr",
     "output_type": "stream",
     "text": [
      "22:30:46 - cmdstanpy - INFO - Chain [1] start processing\n",
      "22:30:46 - cmdstanpy - INFO - Chain [1] done processing\n",
      "22:30:47 - cmdstanpy - INFO - Chain [1] start processing\n",
      "22:30:47 - cmdstanpy - INFO - Chain [1] done processing\n",
      "22:30:47 - cmdstanpy - INFO - Chain [1] start processing\n",
      "22:30:47 - cmdstanpy - INFO - Chain [1] done processing\n",
      "[I 2024-11-30 22:30:47,506] Trial 11 finished with value: 0.4410177410354075 and parameters: {'changepoint_prior_scale': 0.0011044372559307343, 'seasonality_prior_scale': 2.736920430368615, 'holidays_prior_scale': 0.01113054595603889, 'seasonality_mode': 'additive'}. Best is trial 11 with value: 0.4410177410354075.\n",
      "22:30:47 - cmdstanpy - INFO - Chain [1] start processing\n",
      "22:30:47 - cmdstanpy - INFO - Chain [1] done processing\n"
     ]
    },
    {
     "data": {
      "application/vnd.jupyter.widget-view+json": {
       "model_id": "a73bddc4ffa64abf849b215fd4c026ab",
       "version_major": 2,
       "version_minor": 0
      },
      "text/plain": [
       "  0%|          | 0/3 [00:00<?, ?it/s]"
      ]
     },
     "metadata": {},
     "output_type": "display_data"
    },
    {
     "name": "stderr",
     "output_type": "stream",
     "text": [
      "22:30:47 - cmdstanpy - INFO - Chain [1] start processing\n",
      "22:30:47 - cmdstanpy - INFO - Chain [1] done processing\n",
      "22:30:48 - cmdstanpy - INFO - Chain [1] start processing\n",
      "22:30:48 - cmdstanpy - INFO - Chain [1] done processing\n",
      "22:30:48 - cmdstanpy - INFO - Chain [1] start processing\n",
      "22:30:48 - cmdstanpy - INFO - Chain [1] done processing\n",
      "[I 2024-11-30 22:30:48,381] Trial 12 finished with value: 0.45743255825576645 and parameters: {'changepoint_prior_scale': 0.001096440445997073, 'seasonality_prior_scale': 0.14450240205477474, 'holidays_prior_scale': 0.04050605049237539, 'seasonality_mode': 'additive'}. Best is trial 11 with value: 0.4410177410354075.\n",
      "22:30:48 - cmdstanpy - INFO - Chain [1] start processing\n",
      "22:30:48 - cmdstanpy - INFO - Chain [1] done processing\n"
     ]
    },
    {
     "data": {
      "application/vnd.jupyter.widget-view+json": {
       "model_id": "c2f6cffc118d478dae7ae37d75ec2dba",
       "version_major": 2,
       "version_minor": 0
      },
      "text/plain": [
       "  0%|          | 0/3 [00:00<?, ?it/s]"
      ]
     },
     "metadata": {},
     "output_type": "display_data"
    },
    {
     "name": "stderr",
     "output_type": "stream",
     "text": [
      "22:30:48 - cmdstanpy - INFO - Chain [1] start processing\n",
      "22:30:48 - cmdstanpy - INFO - Chain [1] done processing\n",
      "22:30:48 - cmdstanpy - INFO - Chain [1] start processing\n",
      "22:30:49 - cmdstanpy - INFO - Chain [1] done processing\n",
      "22:30:49 - cmdstanpy - INFO - Chain [1] start processing\n",
      "22:30:49 - cmdstanpy - INFO - Chain [1] done processing\n",
      "[I 2024-11-30 22:30:49,350] Trial 13 finished with value: 0.48657929412786527 and parameters: {'changepoint_prior_scale': 0.006895854467479078, 'seasonality_prior_scale': 0.16616792382157985, 'holidays_prior_scale': 0.6139657956035316, 'seasonality_mode': 'additive'}. Best is trial 11 with value: 0.4410177410354075.\n",
      "22:30:49 - cmdstanpy - INFO - Chain [1] start processing\n",
      "22:30:49 - cmdstanpy - INFO - Chain [1] done processing\n"
     ]
    },
    {
     "data": {
      "application/vnd.jupyter.widget-view+json": {
       "model_id": "6c38133250204063b1f39c860e9a8a48",
       "version_major": 2,
       "version_minor": 0
      },
      "text/plain": [
       "  0%|          | 0/3 [00:00<?, ?it/s]"
      ]
     },
     "metadata": {},
     "output_type": "display_data"
    },
    {
     "name": "stderr",
     "output_type": "stream",
     "text": [
      "22:30:49 - cmdstanpy - INFO - Chain [1] start processing\n",
      "22:30:49 - cmdstanpy - INFO - Chain [1] done processing\n",
      "22:30:49 - cmdstanpy - INFO - Chain [1] start processing\n",
      "22:30:49 - cmdstanpy - INFO - Chain [1] done processing\n",
      "22:30:50 - cmdstanpy - INFO - Chain [1] start processing\n",
      "22:30:50 - cmdstanpy - INFO - Chain [1] done processing\n",
      "[I 2024-11-30 22:30:50,225] Trial 14 finished with value: 0.5501009922567127 and parameters: {'changepoint_prior_scale': 0.0058066587907397065, 'seasonality_prior_scale': 8.36309442138797, 'holidays_prior_scale': 3.60420144548042, 'seasonality_mode': 'multiplicative'}. Best is trial 11 with value: 0.4410177410354075.\n",
      "22:30:50 - cmdstanpy - INFO - Chain [1] start processing\n",
      "22:30:50 - cmdstanpy - INFO - Chain [1] done processing\n"
     ]
    },
    {
     "data": {
      "application/vnd.jupyter.widget-view+json": {
       "model_id": "7c0dc68db3db40c28e6a365f41127091",
       "version_major": 2,
       "version_minor": 0
      },
      "text/plain": [
       "  0%|          | 0/3 [00:00<?, ?it/s]"
      ]
     },
     "metadata": {},
     "output_type": "display_data"
    },
    {
     "name": "stderr",
     "output_type": "stream",
     "text": [
      "22:30:50 - cmdstanpy - INFO - Chain [1] start processing\n",
      "22:30:50 - cmdstanpy - INFO - Chain [1] done processing\n",
      "22:30:50 - cmdstanpy - INFO - Chain [1] start processing\n",
      "22:30:50 - cmdstanpy - INFO - Chain [1] done processing\n",
      "22:30:51 - cmdstanpy - INFO - Chain [1] start processing\n",
      "22:30:51 - cmdstanpy - INFO - Chain [1] done processing\n",
      "[I 2024-11-30 22:30:51,183] Trial 15 finished with value: 0.5061571313862795 and parameters: {'changepoint_prior_scale': 0.016136113638943708, 'seasonality_prior_scale': 0.010429538406923029, 'holidays_prior_scale': 0.43072956026341847, 'seasonality_mode': 'additive'}. Best is trial 11 with value: 0.4410177410354075.\n",
      "22:30:51 - cmdstanpy - INFO - Chain [1] start processing\n",
      "22:30:51 - cmdstanpy - INFO - Chain [1] done processing\n"
     ]
    },
    {
     "data": {
      "application/vnd.jupyter.widget-view+json": {
       "model_id": "88e90179dabe44d9893a5a287856f301",
       "version_major": 2,
       "version_minor": 0
      },
      "text/plain": [
       "  0%|          | 0/3 [00:00<?, ?it/s]"
      ]
     },
     "metadata": {},
     "output_type": "display_data"
    },
    {
     "name": "stderr",
     "output_type": "stream",
     "text": [
      "22:30:51 - cmdstanpy - INFO - Chain [1] start processing\n",
      "22:30:51 - cmdstanpy - INFO - Chain [1] done processing\n",
      "22:30:51 - cmdstanpy - INFO - Chain [1] start processing\n",
      "22:30:51 - cmdstanpy - INFO - Chain [1] done processing\n",
      "22:30:52 - cmdstanpy - INFO - Chain [1] start processing\n",
      "22:30:52 - cmdstanpy - INFO - Chain [1] done processing\n",
      "[I 2024-11-30 22:30:52,158] Trial 16 finished with value: 0.460017249865205 and parameters: {'changepoint_prior_scale': 0.001003063366686293, 'seasonality_prior_scale': 3.3463028036888423, 'holidays_prior_scale': 0.05915806284102127, 'seasonality_mode': 'additive'}. Best is trial 11 with value: 0.4410177410354075.\n",
      "22:30:52 - cmdstanpy - INFO - Chain [1] start processing\n",
      "22:30:52 - cmdstanpy - INFO - Chain [1] done processing\n"
     ]
    },
    {
     "data": {
      "application/vnd.jupyter.widget-view+json": {
       "model_id": "2ddef1cdee8b433abd4ec4c9805ee2fd",
       "version_major": 2,
       "version_minor": 0
      },
      "text/plain": [
       "  0%|          | 0/3 [00:00<?, ?it/s]"
      ]
     },
     "metadata": {},
     "output_type": "display_data"
    },
    {
     "name": "stderr",
     "output_type": "stream",
     "text": [
      "22:30:52 - cmdstanpy - INFO - Chain [1] start processing\n",
      "22:30:52 - cmdstanpy - INFO - Chain [1] done processing\n",
      "22:30:52 - cmdstanpy - INFO - Chain [1] start processing\n",
      "22:30:52 - cmdstanpy - INFO - Chain [1] done processing\n",
      "22:30:52 - cmdstanpy - INFO - Chain [1] start processing\n",
      "22:30:52 - cmdstanpy - INFO - Chain [1] done processing\n",
      "[I 2024-11-30 22:30:53,060] Trial 17 finished with value: 0.47064329406569777 and parameters: {'changepoint_prior_scale': 0.0036464569793288647, 'seasonality_prior_scale': 0.16702753300334833, 'holidays_prior_scale': 0.1860449772668954, 'seasonality_mode': 'additive'}. Best is trial 11 with value: 0.4410177410354075.\n",
      "22:30:53 - cmdstanpy - INFO - Chain [1] start processing\n",
      "22:30:53 - cmdstanpy - INFO - Chain [1] done processing\n"
     ]
    },
    {
     "data": {
      "application/vnd.jupyter.widget-view+json": {
       "model_id": "4596b91c20c1494abc05cdf5d3d28c3a",
       "version_major": 2,
       "version_minor": 0
      },
      "text/plain": [
       "  0%|          | 0/3 [00:00<?, ?it/s]"
      ]
     },
     "metadata": {},
     "output_type": "display_data"
    },
    {
     "name": "stderr",
     "output_type": "stream",
     "text": [
      "22:30:53 - cmdstanpy - INFO - Chain [1] start processing\n",
      "22:30:53 - cmdstanpy - INFO - Chain [1] done processing\n",
      "22:30:53 - cmdstanpy - INFO - Chain [1] start processing\n",
      "22:30:53 - cmdstanpy - INFO - Chain [1] done processing\n",
      "22:30:53 - cmdstanpy - INFO - Chain [1] start processing\n",
      "22:30:53 - cmdstanpy - INFO - Chain [1] done processing\n",
      "[I 2024-11-30 22:30:54,024] Trial 18 finished with value: 0.5543220063412506 and parameters: {'changepoint_prior_scale': 0.014527457355111559, 'seasonality_prior_scale': 0.3119208672108829, 'holidays_prior_scale': 0.031192093310444178, 'seasonality_mode': 'multiplicative'}. Best is trial 11 with value: 0.4410177410354075.\n",
      "22:30:54 - cmdstanpy - INFO - Chain [1] start processing\n",
      "22:30:54 - cmdstanpy - INFO - Chain [1] done processing\n"
     ]
    },
    {
     "data": {
      "application/vnd.jupyter.widget-view+json": {
       "model_id": "0969bf573d4f4c6197ad76fee4e67d6c",
       "version_major": 2,
       "version_minor": 0
      },
      "text/plain": [
       "  0%|          | 0/3 [00:00<?, ?it/s]"
      ]
     },
     "metadata": {},
     "output_type": "display_data"
    },
    {
     "name": "stderr",
     "output_type": "stream",
     "text": [
      "22:30:54 - cmdstanpy - INFO - Chain [1] start processing\n",
      "22:30:54 - cmdstanpy - INFO - Chain [1] done processing\n",
      "22:30:54 - cmdstanpy - INFO - Chain [1] start processing\n",
      "22:30:54 - cmdstanpy - INFO - Chain [1] done processing\n",
      "22:30:54 - cmdstanpy - INFO - Chain [1] start processing\n",
      "22:30:55 - cmdstanpy - INFO - Chain [1] done processing\n",
      "[I 2024-11-30 22:30:55,162] Trial 19 finished with value: 0.4804687773810711 and parameters: {'changepoint_prior_scale': 0.1900625799943208, 'seasonality_prior_scale': 3.1717937179582587, 'holidays_prior_scale': 0.010026874354797212, 'seasonality_mode': 'additive'}. Best is trial 11 with value: 0.4410177410354075.\n",
      "22:30:55 - cmdstanpy - INFO - Chain [1] start processing\n",
      "22:30:55 - cmdstanpy - INFO - Chain [1] done processing\n"
     ]
    },
    {
     "data": {
      "application/vnd.jupyter.widget-view+json": {
       "model_id": "6d5ed08350d1486b9379d7bef7f66f62",
       "version_major": 2,
       "version_minor": 0
      },
      "text/plain": [
       "  0%|          | 0/3 [00:00<?, ?it/s]"
      ]
     },
     "metadata": {},
     "output_type": "display_data"
    },
    {
     "name": "stderr",
     "output_type": "stream",
     "text": [
      "22:30:55 - cmdstanpy - INFO - Chain [1] start processing\n",
      "22:30:55 - cmdstanpy - INFO - Chain [1] done processing\n",
      "22:30:55 - cmdstanpy - INFO - Chain [1] start processing\n",
      "22:30:55 - cmdstanpy - INFO - Chain [1] done processing\n",
      "22:30:55 - cmdstanpy - INFO - Chain [1] start processing\n",
      "22:30:56 - cmdstanpy - INFO - Chain [1] done processing\n",
      "[I 2024-11-30 22:30:56,104] Trial 20 finished with value: 0.4503458435175148 and parameters: {'changepoint_prior_scale': 0.0019076109186385256, 'seasonality_prior_scale': 0.08639716659206507, 'holidays_prior_scale': 4.600425067522491, 'seasonality_mode': 'additive'}. Best is trial 11 with value: 0.4410177410354075.\n",
      "22:30:56 - cmdstanpy - INFO - Chain [1] start processing\n",
      "22:30:56 - cmdstanpy - INFO - Chain [1] done processing\n"
     ]
    },
    {
     "data": {
      "application/vnd.jupyter.widget-view+json": {
       "model_id": "6af012d21dcc4dc3a9acc56956370ca6",
       "version_major": 2,
       "version_minor": 0
      },
      "text/plain": [
       "  0%|          | 0/3 [00:00<?, ?it/s]"
      ]
     },
     "metadata": {},
     "output_type": "display_data"
    },
    {
     "name": "stderr",
     "output_type": "stream",
     "text": [
      "22:30:56 - cmdstanpy - INFO - Chain [1] start processing\n",
      "22:30:56 - cmdstanpy - INFO - Chain [1] done processing\n",
      "22:30:56 - cmdstanpy - INFO - Chain [1] start processing\n",
      "22:30:56 - cmdstanpy - INFO - Chain [1] done processing\n",
      "22:30:56 - cmdstanpy - INFO - Chain [1] start processing\n",
      "22:30:57 - cmdstanpy - INFO - Chain [1] done processing\n",
      "[I 2024-11-30 22:30:57,101] Trial 21 finished with value: 0.4567830959738844 and parameters: {'changepoint_prior_scale': 0.0017046292062733435, 'seasonality_prior_scale': 0.10167645484345784, 'holidays_prior_scale': 4.830120793198977, 'seasonality_mode': 'additive'}. Best is trial 11 with value: 0.4410177410354075.\n",
      "22:30:57 - cmdstanpy - INFO - Chain [1] start processing\n",
      "22:30:57 - cmdstanpy - INFO - Chain [1] done processing\n"
     ]
    },
    {
     "data": {
      "application/vnd.jupyter.widget-view+json": {
       "model_id": "4d06f13d8b53424f94a33ea7b2833018",
       "version_major": 2,
       "version_minor": 0
      },
      "text/plain": [
       "  0%|          | 0/3 [00:00<?, ?it/s]"
      ]
     },
     "metadata": {},
     "output_type": "display_data"
    },
    {
     "name": "stderr",
     "output_type": "stream",
     "text": [
      "22:30:57 - cmdstanpy - INFO - Chain [1] start processing\n",
      "22:30:57 - cmdstanpy - INFO - Chain [1] done processing\n",
      "22:30:57 - cmdstanpy - INFO - Chain [1] start processing\n",
      "22:30:57 - cmdstanpy - INFO - Chain [1] done processing\n",
      "22:30:57 - cmdstanpy - INFO - Chain [1] start processing\n",
      "22:30:57 - cmdstanpy - INFO - Chain [1] done processing\n",
      "[I 2024-11-30 22:30:58,039] Trial 22 finished with value: 0.4786215129380916 and parameters: {'changepoint_prior_scale': 0.004017301781675678, 'seasonality_prior_scale': 0.30047055680759277, 'holidays_prior_scale': 0.857503784332887, 'seasonality_mode': 'additive'}. Best is trial 11 with value: 0.4410177410354075.\n",
      "22:30:58 - cmdstanpy - INFO - Chain [1] start processing\n",
      "22:30:58 - cmdstanpy - INFO - Chain [1] done processing\n"
     ]
    },
    {
     "data": {
      "application/vnd.jupyter.widget-view+json": {
       "model_id": "86242895aa0f43d4a9762dff52ce792d",
       "version_major": 2,
       "version_minor": 0
      },
      "text/plain": [
       "  0%|          | 0/3 [00:00<?, ?it/s]"
      ]
     },
     "metadata": {},
     "output_type": "display_data"
    },
    {
     "name": "stderr",
     "output_type": "stream",
     "text": [
      "22:30:58 - cmdstanpy - INFO - Chain [1] start processing\n",
      "22:30:58 - cmdstanpy - INFO - Chain [1] done processing\n",
      "22:30:58 - cmdstanpy - INFO - Chain [1] start processing\n",
      "22:30:58 - cmdstanpy - INFO - Chain [1] done processing\n",
      "22:30:58 - cmdstanpy - INFO - Chain [1] start processing\n",
      "22:30:58 - cmdstanpy - INFO - Chain [1] done processing\n",
      "[I 2024-11-30 22:30:58,955] Trial 23 finished with value: 0.4558200972939106 and parameters: {'changepoint_prior_scale': 0.0021968902588372433, 'seasonality_prior_scale': 0.09006052378072377, 'holidays_prior_scale': 4.208802433181528, 'seasonality_mode': 'additive'}. Best is trial 11 with value: 0.4410177410354075.\n",
      "22:30:59 - cmdstanpy - INFO - Chain [1] start processing\n",
      "22:30:59 - cmdstanpy - INFO - Chain [1] done processing\n"
     ]
    },
    {
     "data": {
      "application/vnd.jupyter.widget-view+json": {
       "model_id": "62249a6c019140f283b8e8148ca76063",
       "version_major": 2,
       "version_minor": 0
      },
      "text/plain": [
       "  0%|          | 0/3 [00:00<?, ?it/s]"
      ]
     },
     "metadata": {},
     "output_type": "display_data"
    },
    {
     "name": "stderr",
     "output_type": "stream",
     "text": [
      "22:30:59 - cmdstanpy - INFO - Chain [1] start processing\n",
      "22:30:59 - cmdstanpy - INFO - Chain [1] done processing\n",
      "22:30:59 - cmdstanpy - INFO - Chain [1] start processing\n",
      "22:30:59 - cmdstanpy - INFO - Chain [1] done processing\n",
      "22:30:59 - cmdstanpy - INFO - Chain [1] start processing\n",
      "22:30:59 - cmdstanpy - INFO - Chain [1] done processing\n",
      "[I 2024-11-30 22:30:59,925] Trial 24 finished with value: 0.4437145550874377 and parameters: {'changepoint_prior_scale': 0.001110614900606687, 'seasonality_prior_scale': 0.015355892559252151, 'holidays_prior_scale': 2.3193951118634772, 'seasonality_mode': 'additive'}. Best is trial 11 with value: 0.4410177410354075.\n",
      "22:31:00 - cmdstanpy - INFO - Chain [1] start processing\n",
      "22:31:00 - cmdstanpy - INFO - Chain [1] done processing\n"
     ]
    },
    {
     "data": {
      "application/vnd.jupyter.widget-view+json": {
       "model_id": "b387ec2becc14083934540c807a37ed6",
       "version_major": 2,
       "version_minor": 0
      },
      "text/plain": [
       "  0%|          | 0/3 [00:00<?, ?it/s]"
      ]
     },
     "metadata": {},
     "output_type": "display_data"
    },
    {
     "name": "stderr",
     "output_type": "stream",
     "text": [
      "22:31:00 - cmdstanpy - INFO - Chain [1] start processing\n",
      "22:31:00 - cmdstanpy - INFO - Chain [1] done processing\n",
      "22:31:00 - cmdstanpy - INFO - Chain [1] start processing\n",
      "22:31:00 - cmdstanpy - INFO - Chain [1] done processing\n",
      "22:31:00 - cmdstanpy - INFO - Chain [1] start processing\n",
      "22:31:00 - cmdstanpy - INFO - Chain [1] done processing\n",
      "[I 2024-11-30 22:31:00,810] Trial 25 finished with value: 0.456303940539926 and parameters: {'changepoint_prior_scale': 0.0011053612264072183, 'seasonality_prior_scale': 0.014165978201656647, 'holidays_prior_scale': 2.415426179570809, 'seasonality_mode': 'additive'}. Best is trial 11 with value: 0.4410177410354075.\n",
      "22:31:00 - cmdstanpy - INFO - Chain [1] start processing\n",
      "22:31:01 - cmdstanpy - INFO - Chain [1] done processing\n"
     ]
    },
    {
     "data": {
      "application/vnd.jupyter.widget-view+json": {
       "model_id": "6d52ad4176f34ceba2653c4bc13b301b",
       "version_major": 2,
       "version_minor": 0
      },
      "text/plain": [
       "  0%|          | 0/3 [00:00<?, ?it/s]"
      ]
     },
     "metadata": {},
     "output_type": "display_data"
    },
    {
     "name": "stderr",
     "output_type": "stream",
     "text": [
      "22:31:01 - cmdstanpy - INFO - Chain [1] start processing\n",
      "22:31:01 - cmdstanpy - INFO - Chain [1] done processing\n",
      "22:31:01 - cmdstanpy - INFO - Chain [1] start processing\n",
      "22:31:01 - cmdstanpy - INFO - Chain [1] done processing\n",
      "22:31:01 - cmdstanpy - INFO - Chain [1] start processing\n",
      "22:31:01 - cmdstanpy - INFO - Chain [1] done processing\n",
      "[I 2024-11-30 22:31:01,766] Trial 26 finished with value: 0.5489642698385757 and parameters: {'changepoint_prior_scale': 0.01054429496767571, 'seasonality_prior_scale': 0.02684834835681866, 'holidays_prior_scale': 0.8640662554324766, 'seasonality_mode': 'multiplicative'}. Best is trial 11 with value: 0.4410177410354075.\n",
      "22:31:01 - cmdstanpy - INFO - Chain [1] start processing\n",
      "22:31:01 - cmdstanpy - INFO - Chain [1] done processing\n"
     ]
    },
    {
     "data": {
      "application/vnd.jupyter.widget-view+json": {
       "model_id": "a0ab5a4dac3c4dcda2d0cf052c2c4110",
       "version_major": 2,
       "version_minor": 0
      },
      "text/plain": [
       "  0%|          | 0/3 [00:00<?, ?it/s]"
      ]
     },
     "metadata": {},
     "output_type": "display_data"
    },
    {
     "name": "stderr",
     "output_type": "stream",
     "text": [
      "22:31:02 - cmdstanpy - INFO - Chain [1] start processing\n",
      "22:31:02 - cmdstanpy - INFO - Chain [1] done processing\n",
      "22:31:02 - cmdstanpy - INFO - Chain [1] start processing\n",
      "22:31:02 - cmdstanpy - INFO - Chain [1] done processing\n",
      "22:31:02 - cmdstanpy - INFO - Chain [1] start processing\n",
      "22:31:02 - cmdstanpy - INFO - Chain [1] done processing\n",
      "[I 2024-11-30 22:31:02,743] Trial 27 finished with value: 0.4922581721006491 and parameters: {'changepoint_prior_scale': 0.02605352311274407, 'seasonality_prior_scale': 0.015650503414296524, 'holidays_prior_scale': 0.40547191927960835, 'seasonality_mode': 'additive'}. Best is trial 11 with value: 0.4410177410354075.\n",
      "22:31:02 - cmdstanpy - INFO - Chain [1] start processing\n",
      "22:31:02 - cmdstanpy - INFO - Chain [1] done processing\n"
     ]
    },
    {
     "data": {
      "application/vnd.jupyter.widget-view+json": {
       "model_id": "25a1531bb21d4a8fb4ba015c4155c951",
       "version_major": 2,
       "version_minor": 0
      },
      "text/plain": [
       "  0%|          | 0/3 [00:00<?, ?it/s]"
      ]
     },
     "metadata": {},
     "output_type": "display_data"
    },
    {
     "name": "stderr",
     "output_type": "stream",
     "text": [
      "22:31:03 - cmdstanpy - INFO - Chain [1] start processing\n",
      "22:31:03 - cmdstanpy - INFO - Chain [1] done processing\n",
      "22:31:03 - cmdstanpy - INFO - Chain [1] start processing\n",
      "22:31:03 - cmdstanpy - INFO - Chain [1] done processing\n",
      "22:31:03 - cmdstanpy - INFO - Chain [1] start processing\n",
      "22:31:03 - cmdstanpy - INFO - Chain [1] done processing\n",
      "[I 2024-11-30 22:31:03,658] Trial 28 finished with value: 0.48515795956535696 and parameters: {'changepoint_prior_scale': 0.004702765442200979, 'seasonality_prior_scale': 1.7666727365749588, 'holidays_prior_scale': 6.661246163096725, 'seasonality_mode': 'additive'}. Best is trial 11 with value: 0.4410177410354075.\n",
      "22:31:03 - cmdstanpy - INFO - Chain [1] start processing\n",
      "22:31:03 - cmdstanpy - INFO - Chain [1] done processing\n"
     ]
    },
    {
     "data": {
      "application/vnd.jupyter.widget-view+json": {
       "model_id": "8259b829fad344399eac5ed933b4d073",
       "version_major": 2,
       "version_minor": 0
      },
      "text/plain": [
       "  0%|          | 0/3 [00:00<?, ?it/s]"
      ]
     },
     "metadata": {},
     "output_type": "display_data"
    },
    {
     "name": "stderr",
     "output_type": "stream",
     "text": [
      "22:31:04 - cmdstanpy - INFO - Chain [1] start processing\n",
      "22:31:04 - cmdstanpy - INFO - Chain [1] done processing\n",
      "22:31:04 - cmdstanpy - INFO - Chain [1] start processing\n",
      "22:31:04 - cmdstanpy - INFO - Chain [1] done processing\n",
      "22:31:04 - cmdstanpy - INFO - Chain [1] start processing\n",
      "22:31:04 - cmdstanpy - INFO - Chain [1] done processing\n",
      "[I 2024-11-30 22:31:04,612] Trial 29 finished with value: 0.4457140970532027 and parameters: {'changepoint_prior_scale': 0.0029366692838657194, 'seasonality_prior_scale': 0.023268113034117487, 'holidays_prior_scale': 2.2024343259446857, 'seasonality_mode': 'additive'}. Best is trial 11 with value: 0.4410177410354075.\n",
      "22:31:04 - cmdstanpy - INFO - Chain [1] start processing\n",
      "22:31:04 - cmdstanpy - INFO - Chain [1] done processing\n"
     ]
    },
    {
     "data": {
      "application/vnd.jupyter.widget-view+json": {
       "model_id": "764e351aba714be1a665423afd654f33",
       "version_major": 2,
       "version_minor": 0
      },
      "text/plain": [
       "  0%|          | 0/3 [00:00<?, ?it/s]"
      ]
     },
     "metadata": {},
     "output_type": "display_data"
    },
    {
     "name": "stderr",
     "output_type": "stream",
     "text": [
      "22:31:04 - cmdstanpy - INFO - Chain [1] start processing\n",
      "22:31:05 - cmdstanpy - INFO - Chain [1] done processing\n",
      "22:31:05 - cmdstanpy - INFO - Chain [1] start processing\n",
      "22:31:05 - cmdstanpy - INFO - Chain [1] done processing\n",
      "22:31:05 - cmdstanpy - INFO - Chain [1] start processing\n",
      "22:31:05 - cmdstanpy - INFO - Chain [1] done processing\n",
      "[I 2024-11-30 22:31:05,549] Trial 30 finished with value: 0.4552448432130493 and parameters: {'changepoint_prior_scale': 0.0014451975006880742, 'seasonality_prior_scale': 0.0220543651324962, 'holidays_prior_scale': 2.6134850445334123, 'seasonality_mode': 'additive'}. Best is trial 11 with value: 0.4410177410354075.\n",
      "22:31:05 - cmdstanpy - INFO - Chain [1] start processing\n",
      "22:31:05 - cmdstanpy - INFO - Chain [1] done processing\n"
     ]
    },
    {
     "data": {
      "application/vnd.jupyter.widget-view+json": {
       "model_id": "82bfb6ffd1474ed0904718536659586e",
       "version_major": 2,
       "version_minor": 0
      },
      "text/plain": [
       "  0%|          | 0/3 [00:00<?, ?it/s]"
      ]
     },
     "metadata": {},
     "output_type": "display_data"
    },
    {
     "name": "stderr",
     "output_type": "stream",
     "text": [
      "22:31:05 - cmdstanpy - INFO - Chain [1] start processing\n",
      "22:31:05 - cmdstanpy - INFO - Chain [1] done processing\n",
      "22:31:06 - cmdstanpy - INFO - Chain [1] start processing\n",
      "22:31:06 - cmdstanpy - INFO - Chain [1] done processing\n",
      "22:31:06 - cmdstanpy - INFO - Chain [1] start processing\n",
      "22:31:06 - cmdstanpy - INFO - Chain [1] done processing\n",
      "[I 2024-11-30 22:31:06,470] Trial 31 finished with value: 0.44308387832425233 and parameters: {'changepoint_prior_scale': 0.0030022854540081453, 'seasonality_prior_scale': 0.0234267834428424, 'holidays_prior_scale': 1.8613677923306038, 'seasonality_mode': 'additive'}. Best is trial 11 with value: 0.4410177410354075.\n",
      "22:31:06 - cmdstanpy - INFO - Chain [1] start processing\n",
      "22:31:06 - cmdstanpy - INFO - Chain [1] done processing\n"
     ]
    },
    {
     "data": {
      "application/vnd.jupyter.widget-view+json": {
       "model_id": "6d17352cee864467b00e84a68f1d365b",
       "version_major": 2,
       "version_minor": 0
      },
      "text/plain": [
       "  0%|          | 0/3 [00:00<?, ?it/s]"
      ]
     },
     "metadata": {},
     "output_type": "display_data"
    },
    {
     "name": "stderr",
     "output_type": "stream",
     "text": [
      "22:31:06 - cmdstanpy - INFO - Chain [1] start processing\n",
      "22:31:06 - cmdstanpy - INFO - Chain [1] done processing\n",
      "22:31:07 - cmdstanpy - INFO - Chain [1] start processing\n",
      "22:31:07 - cmdstanpy - INFO - Chain [1] done processing\n",
      "22:31:07 - cmdstanpy - INFO - Chain [1] start processing\n",
      "22:31:07 - cmdstanpy - INFO - Chain [1] done processing\n",
      "[I 2024-11-30 22:31:07,409] Trial 32 finished with value: 0.44177763144411225 and parameters: {'changepoint_prior_scale': 0.0026927146466405654, 'seasonality_prior_scale': 0.026946256263984267, 'holidays_prior_scale': 1.2020564877396214, 'seasonality_mode': 'additive'}. Best is trial 11 with value: 0.4410177410354075.\n",
      "22:31:07 - cmdstanpy - INFO - Chain [1] start processing\n",
      "22:31:07 - cmdstanpy - INFO - Chain [1] done processing\n"
     ]
    },
    {
     "data": {
      "application/vnd.jupyter.widget-view+json": {
       "model_id": "a43421d091924dbeb7335ad5b0d025c8",
       "version_major": 2,
       "version_minor": 0
      },
      "text/plain": [
       "  0%|          | 0/3 [00:00<?, ?it/s]"
      ]
     },
     "metadata": {},
     "output_type": "display_data"
    },
    {
     "name": "stderr",
     "output_type": "stream",
     "text": [
      "22:31:07 - cmdstanpy - INFO - Chain [1] start processing\n",
      "22:31:07 - cmdstanpy - INFO - Chain [1] done processing\n",
      "22:31:07 - cmdstanpy - INFO - Chain [1] start processing\n",
      "22:31:08 - cmdstanpy - INFO - Chain [1] done processing\n",
      "22:31:08 - cmdstanpy - INFO - Chain [1] start processing\n",
      "22:31:08 - cmdstanpy - INFO - Chain [1] done processing\n",
      "[I 2024-11-30 22:31:08,316] Trial 33 finished with value: 0.4590490782193418 and parameters: {'changepoint_prior_scale': 0.0025337571394628473, 'seasonality_prior_scale': 0.05727119797114521, 'holidays_prior_scale': 1.4909679445535633, 'seasonality_mode': 'additive'}. Best is trial 11 with value: 0.4410177410354075.\n",
      "22:31:08 - cmdstanpy - INFO - Chain [1] start processing\n",
      "22:31:08 - cmdstanpy - INFO - Chain [1] done processing\n"
     ]
    },
    {
     "data": {
      "application/vnd.jupyter.widget-view+json": {
       "model_id": "ff778eddb80b40e1989c043a88e69b73",
       "version_major": 2,
       "version_minor": 0
      },
      "text/plain": [
       "  0%|          | 0/3 [00:00<?, ?it/s]"
      ]
     },
     "metadata": {},
     "output_type": "display_data"
    },
    {
     "name": "stderr",
     "output_type": "stream",
     "text": [
      "22:31:08 - cmdstanpy - INFO - Chain [1] start processing\n",
      "22:31:08 - cmdstanpy - INFO - Chain [1] done processing\n",
      "22:31:08 - cmdstanpy - INFO - Chain [1] start processing\n",
      "22:31:08 - cmdstanpy - INFO - Chain [1] done processing\n",
      "22:31:09 - cmdstanpy - INFO - Chain [1] start processing\n",
      "22:31:09 - cmdstanpy - INFO - Chain [1] done processing\n",
      "[I 2024-11-30 22:31:09,270] Trial 34 finished with value: 0.4480406790182514 and parameters: {'changepoint_prior_scale': 0.0014520536022900135, 'seasonality_prior_scale': 0.010419922575550898, 'holidays_prior_scale': 1.1824654942650379, 'seasonality_mode': 'additive'}. Best is trial 11 with value: 0.4410177410354075.\n",
      "22:31:09 - cmdstanpy - INFO - Chain [1] start processing\n",
      "22:31:09 - cmdstanpy - INFO - Chain [1] done processing\n"
     ]
    },
    {
     "data": {
      "application/vnd.jupyter.widget-view+json": {
       "model_id": "e55bdaa11183406eb2f382cff6e9a24a",
       "version_major": 2,
       "version_minor": 0
      },
      "text/plain": [
       "  0%|          | 0/3 [00:00<?, ?it/s]"
      ]
     },
     "metadata": {},
     "output_type": "display_data"
    },
    {
     "name": "stderr",
     "output_type": "stream",
     "text": [
      "22:31:09 - cmdstanpy - INFO - Chain [1] start processing\n",
      "22:31:09 - cmdstanpy - INFO - Chain [1] done processing\n",
      "22:31:09 - cmdstanpy - INFO - Chain [1] start processing\n",
      "22:31:09 - cmdstanpy - INFO - Chain [1] done processing\n",
      "22:31:10 - cmdstanpy - INFO - Chain [1] start processing\n",
      "22:31:10 - cmdstanpy - INFO - Chain [1] done processing\n",
      "[I 2024-11-30 22:31:10,248] Trial 35 finished with value: 0.4821480366227994 and parameters: {'changepoint_prior_scale': 0.005356589214584117, 'seasonality_prior_scale': 0.03336161926488651, 'holidays_prior_scale': 0.2370736438260319, 'seasonality_mode': 'additive'}. Best is trial 11 with value: 0.4410177410354075.\n",
      "22:31:10 - cmdstanpy - INFO - Chain [1] start processing\n",
      "22:31:10 - cmdstanpy - INFO - Chain [1] done processing\n"
     ]
    },
    {
     "data": {
      "application/vnd.jupyter.widget-view+json": {
       "model_id": "d6ef9f1253f143c591f0f96f94c1d978",
       "version_major": 2,
       "version_minor": 0
      },
      "text/plain": [
       "  0%|          | 0/3 [00:00<?, ?it/s]"
      ]
     },
     "metadata": {},
     "output_type": "display_data"
    },
    {
     "name": "stderr",
     "output_type": "stream",
     "text": [
      "22:31:10 - cmdstanpy - INFO - Chain [1] start processing\n",
      "22:31:10 - cmdstanpy - INFO - Chain [1] done processing\n",
      "22:31:10 - cmdstanpy - INFO - Chain [1] start processing\n",
      "22:31:10 - cmdstanpy - INFO - Chain [1] done processing\n",
      "22:31:11 - cmdstanpy - INFO - Chain [1] start processing\n",
      "22:31:11 - cmdstanpy - INFO - Chain [1] done processing\n",
      "[I 2024-11-30 22:31:11,205] Trial 36 finished with value: 0.5242205361485918 and parameters: {'changepoint_prior_scale': 0.001369260062497216, 'seasonality_prior_scale': 0.06361219222221035, 'holidays_prior_scale': 1.022861098868745, 'seasonality_mode': 'multiplicative'}. Best is trial 11 with value: 0.4410177410354075.\n",
      "22:31:11 - cmdstanpy - INFO - Chain [1] start processing\n",
      "22:31:11 - cmdstanpy - INFO - Chain [1] done processing\n"
     ]
    },
    {
     "data": {
      "application/vnd.jupyter.widget-view+json": {
       "model_id": "bf68bf81d0b44511b749f152acc36e64",
       "version_major": 2,
       "version_minor": 0
      },
      "text/plain": [
       "  0%|          | 0/3 [00:00<?, ?it/s]"
      ]
     },
     "metadata": {},
     "output_type": "display_data"
    },
    {
     "name": "stderr",
     "output_type": "stream",
     "text": [
      "22:31:11 - cmdstanpy - INFO - Chain [1] start processing\n",
      "22:31:11 - cmdstanpy - INFO - Chain [1] done processing\n",
      "22:31:11 - cmdstanpy - INFO - Chain [1] start processing\n",
      "22:31:11 - cmdstanpy - INFO - Chain [1] done processing\n",
      "22:31:11 - cmdstanpy - INFO - Chain [1] start processing\n",
      "22:31:12 - cmdstanpy - INFO - Chain [1] done processing\n",
      "[I 2024-11-30 22:31:12,115] Trial 37 finished with value: 0.4459374914317074 and parameters: {'changepoint_prior_scale': 0.002779087613933968, 'seasonality_prior_scale': 0.018581390033163194, 'holidays_prior_scale': 0.6092057774543307, 'seasonality_mode': 'additive'}. Best is trial 11 with value: 0.4410177410354075.\n",
      "22:31:12 - cmdstanpy - INFO - Chain [1] start processing\n",
      "22:31:12 - cmdstanpy - INFO - Chain [1] done processing\n"
     ]
    },
    {
     "data": {
      "application/vnd.jupyter.widget-view+json": {
       "model_id": "62dc5e879bb3471f973282e4ea54705a",
       "version_major": 2,
       "version_minor": 0
      },
      "text/plain": [
       "  0%|          | 0/3 [00:00<?, ?it/s]"
      ]
     },
     "metadata": {},
     "output_type": "display_data"
    },
    {
     "name": "stderr",
     "output_type": "stream",
     "text": [
      "22:31:12 - cmdstanpy - INFO - Chain [1] start processing\n",
      "22:31:12 - cmdstanpy - INFO - Chain [1] done processing\n",
      "22:31:12 - cmdstanpy - INFO - Chain [1] start processing\n",
      "22:31:12 - cmdstanpy - INFO - Chain [1] done processing\n",
      "22:31:12 - cmdstanpy - INFO - Chain [1] start processing\n",
      "22:31:12 - cmdstanpy - INFO - Chain [1] done processing\n",
      "[I 2024-11-30 22:31:13,054] Trial 38 finished with value: 0.48529258136033576 and parameters: {'changepoint_prior_scale': 0.003958998183163637, 'seasonality_prior_scale': 0.04063616968857088, 'holidays_prior_scale': 3.0636455951680306, 'seasonality_mode': 'additive'}. Best is trial 11 with value: 0.4410177410354075.\n",
      "22:31:13 - cmdstanpy - INFO - Chain [1] start processing\n",
      "22:31:13 - cmdstanpy - INFO - Chain [1] done processing\n"
     ]
    },
    {
     "data": {
      "application/vnd.jupyter.widget-view+json": {
       "model_id": "be568e63593c4365b387492308b4427b",
       "version_major": 2,
       "version_minor": 0
      },
      "text/plain": [
       "  0%|          | 0/3 [00:00<?, ?it/s]"
      ]
     },
     "metadata": {},
     "output_type": "display_data"
    },
    {
     "name": "stderr",
     "output_type": "stream",
     "text": [
      "22:31:13 - cmdstanpy - INFO - Chain [1] start processing\n",
      "22:31:13 - cmdstanpy - INFO - Chain [1] done processing\n",
      "22:31:13 - cmdstanpy - INFO - Chain [1] start processing\n",
      "22:31:13 - cmdstanpy - INFO - Chain [1] done processing\n",
      "22:31:14 - cmdstanpy - INFO - Chain [1] start processing\n",
      "22:31:14 - cmdstanpy - INFO - Chain [1] done processing\n",
      "[I 2024-11-30 22:31:14,174] Trial 39 finished with value: 0.4829588890605177 and parameters: {'changepoint_prior_scale': 0.15918076864799596, 'seasonality_prior_scale': 0.4848540267360685, 'holidays_prior_scale': 1.743357727902778, 'seasonality_mode': 'additive'}. Best is trial 11 with value: 0.4410177410354075.\n",
      "22:31:14 - cmdstanpy - INFO - Chain [1] start processing\n",
      "22:31:14 - cmdstanpy - INFO - Chain [1] done processing\n"
     ]
    },
    {
     "data": {
      "application/vnd.jupyter.widget-view+json": {
       "model_id": "4dfe94f7dfcc4364b269156d1ded471a",
       "version_major": 2,
       "version_minor": 0
      },
      "text/plain": [
       "  0%|          | 0/3 [00:00<?, ?it/s]"
      ]
     },
     "metadata": {},
     "output_type": "display_data"
    },
    {
     "name": "stderr",
     "output_type": "stream",
     "text": [
      "22:31:14 - cmdstanpy - INFO - Chain [1] start processing\n",
      "22:31:14 - cmdstanpy - INFO - Chain [1] done processing\n",
      "22:31:14 - cmdstanpy - INFO - Chain [1] start processing\n",
      "22:31:14 - cmdstanpy - INFO - Chain [1] done processing\n",
      "22:31:14 - cmdstanpy - INFO - Chain [1] start processing\n",
      "22:31:14 - cmdstanpy - INFO - Chain [1] done processing\n",
      "[I 2024-11-30 22:31:15,065] Trial 40 finished with value: 0.5232558438153361 and parameters: {'changepoint_prior_scale': 0.0019492617903443703, 'seasonality_prior_scale': 0.013676845145571164, 'holidays_prior_scale': 0.6392292782144063, 'seasonality_mode': 'multiplicative'}. Best is trial 11 with value: 0.4410177410354075.\n",
      "22:31:15 - cmdstanpy - INFO - Chain [1] start processing\n",
      "22:31:15 - cmdstanpy - INFO - Chain [1] done processing\n"
     ]
    },
    {
     "data": {
      "application/vnd.jupyter.widget-view+json": {
       "model_id": "bb1193b38c1c4410b590f87350af19f8",
       "version_major": 2,
       "version_minor": 0
      },
      "text/plain": [
       "  0%|          | 0/3 [00:00<?, ?it/s]"
      ]
     },
     "metadata": {},
     "output_type": "display_data"
    },
    {
     "name": "stderr",
     "output_type": "stream",
     "text": [
      "22:31:15 - cmdstanpy - INFO - Chain [1] start processing\n",
      "22:31:15 - cmdstanpy - INFO - Chain [1] done processing\n",
      "22:31:15 - cmdstanpy - INFO - Chain [1] start processing\n",
      "22:31:15 - cmdstanpy - INFO - Chain [1] done processing\n",
      "22:31:15 - cmdstanpy - INFO - Chain [1] start processing\n",
      "22:31:15 - cmdstanpy - INFO - Chain [1] done processing\n",
      "[I 2024-11-30 22:31:15,966] Trial 41 finished with value: 0.4461770013933673 and parameters: {'changepoint_prior_scale': 0.0029341294032181196, 'seasonality_prior_scale': 0.02488715004799871, 'holidays_prior_scale': 2.2446628367284474, 'seasonality_mode': 'additive'}. Best is trial 11 with value: 0.4410177410354075.\n",
      "22:31:16 - cmdstanpy - INFO - Chain [1] start processing\n",
      "22:31:16 - cmdstanpy - INFO - Chain [1] done processing\n"
     ]
    },
    {
     "data": {
      "application/vnd.jupyter.widget-view+json": {
       "model_id": "d552296e030d4dc3a9a4e3104a9af96e",
       "version_major": 2,
       "version_minor": 0
      },
      "text/plain": [
       "  0%|          | 0/3 [00:00<?, ?it/s]"
      ]
     },
     "metadata": {},
     "output_type": "display_data"
    },
    {
     "name": "stderr",
     "output_type": "stream",
     "text": [
      "22:31:16 - cmdstanpy - INFO - Chain [1] start processing\n",
      "22:31:16 - cmdstanpy - INFO - Chain [1] done processing\n",
      "22:31:16 - cmdstanpy - INFO - Chain [1] start processing\n",
      "22:31:16 - cmdstanpy - INFO - Chain [1] done processing\n",
      "22:31:16 - cmdstanpy - INFO - Chain [1] start processing\n",
      "22:31:16 - cmdstanpy - INFO - Chain [1] done processing\n",
      "[I 2024-11-30 22:31:16,877] Trial 42 finished with value: 0.4593291250326153 and parameters: {'changepoint_prior_scale': 0.002532274196409884, 'seasonality_prior_scale': 0.027955645011961315, 'holidays_prior_scale': 0.12316847534701675, 'seasonality_mode': 'additive'}. Best is trial 11 with value: 0.4410177410354075.\n",
      "22:31:17 - cmdstanpy - INFO - Chain [1] start processing\n",
      "22:31:17 - cmdstanpy - INFO - Chain [1] done processing\n"
     ]
    },
    {
     "data": {
      "application/vnd.jupyter.widget-view+json": {
       "model_id": "69adb551017f4ce1aad61ebf257fd5f1",
       "version_major": 2,
       "version_minor": 0
      },
      "text/plain": [
       "  0%|          | 0/3 [00:00<?, ?it/s]"
      ]
     },
     "metadata": {},
     "output_type": "display_data"
    },
    {
     "name": "stderr",
     "output_type": "stream",
     "text": [
      "22:31:17 - cmdstanpy - INFO - Chain [1] start processing\n",
      "22:31:17 - cmdstanpy - INFO - Chain [1] done processing\n",
      "22:31:17 - cmdstanpy - INFO - Chain [1] start processing\n",
      "22:31:17 - cmdstanpy - INFO - Chain [1] done processing\n",
      "22:31:17 - cmdstanpy - INFO - Chain [1] start processing\n",
      "22:31:17 - cmdstanpy - INFO - Chain [1] done processing\n",
      "[I 2024-11-30 22:31:17,868] Trial 43 finished with value: 0.49672790759819974 and parameters: {'changepoint_prior_scale': 0.008860021693195648, 'seasonality_prior_scale': 0.04703852811212392, 'holidays_prior_scale': 1.528437637874911, 'seasonality_mode': 'additive'}. Best is trial 11 with value: 0.4410177410354075.\n",
      "22:31:18 - cmdstanpy - INFO - Chain [1] start processing\n",
      "22:31:18 - cmdstanpy - INFO - Chain [1] done processing\n"
     ]
    },
    {
     "data": {
      "application/vnd.jupyter.widget-view+json": {
       "model_id": "ff94b50493dd4b59b5aa17209be2080a",
       "version_major": 2,
       "version_minor": 0
      },
      "text/plain": [
       "  0%|          | 0/3 [00:00<?, ?it/s]"
      ]
     },
     "metadata": {},
     "output_type": "display_data"
    },
    {
     "name": "stderr",
     "output_type": "stream",
     "text": [
      "22:31:18 - cmdstanpy - INFO - Chain [1] start processing\n",
      "22:31:18 - cmdstanpy - INFO - Chain [1] done processing\n",
      "22:31:18 - cmdstanpy - INFO - Chain [1] start processing\n",
      "22:31:18 - cmdstanpy - INFO - Chain [1] done processing\n",
      "22:31:18 - cmdstanpy - INFO - Chain [1] start processing\n",
      "22:31:18 - cmdstanpy - INFO - Chain [1] done processing\n",
      "[I 2024-11-30 22:31:18,777] Trial 44 finished with value: 0.4396953858712598 and parameters: {'changepoint_prior_scale': 0.0010641213815824788, 'seasonality_prior_scale': 0.017571820852098644, 'holidays_prior_scale': 5.935567700550306, 'seasonality_mode': 'additive'}. Best is trial 44 with value: 0.4396953858712598.\n",
      "22:31:18 - cmdstanpy - INFO - Chain [1] start processing\n",
      "22:31:19 - cmdstanpy - INFO - Chain [1] done processing\n"
     ]
    },
    {
     "data": {
      "application/vnd.jupyter.widget-view+json": {
       "model_id": "0420f47d5d124ce2b0ca7b937e3812cf",
       "version_major": 2,
       "version_minor": 0
      },
      "text/plain": [
       "  0%|          | 0/3 [00:00<?, ?it/s]"
      ]
     },
     "metadata": {},
     "output_type": "display_data"
    },
    {
     "name": "stderr",
     "output_type": "stream",
     "text": [
      "22:31:19 - cmdstanpy - INFO - Chain [1] start processing\n",
      "22:31:19 - cmdstanpy - INFO - Chain [1] done processing\n",
      "22:31:19 - cmdstanpy - INFO - Chain [1] start processing\n",
      "22:31:19 - cmdstanpy - INFO - Chain [1] done processing\n",
      "22:31:19 - cmdstanpy - INFO - Chain [1] start processing\n",
      "22:31:19 - cmdstanpy - INFO - Chain [1] done processing\n",
      "[I 2024-11-30 22:31:19,772] Trial 45 finished with value: 0.45124896863735825 and parameters: {'changepoint_prior_scale': 0.0012759100583761538, 'seasonality_prior_scale': 0.01681698491635899, 'holidays_prior_scale': 5.9710316268370285, 'seasonality_mode': 'additive'}. Best is trial 44 with value: 0.4396953858712598.\n",
      "22:31:19 - cmdstanpy - INFO - Chain [1] start processing\n",
      "22:31:19 - cmdstanpy - INFO - Chain [1] done processing\n"
     ]
    },
    {
     "data": {
      "application/vnd.jupyter.widget-view+json": {
       "model_id": "a75fee9cf85e41959863002503bd9513",
       "version_major": 2,
       "version_minor": 0
      },
      "text/plain": [
       "  0%|          | 0/3 [00:00<?, ?it/s]"
      ]
     },
     "metadata": {},
     "output_type": "display_data"
    },
    {
     "name": "stderr",
     "output_type": "stream",
     "text": [
      "22:31:20 - cmdstanpy - INFO - Chain [1] start processing\n",
      "22:31:20 - cmdstanpy - INFO - Chain [1] done processing\n",
      "22:31:20 - cmdstanpy - INFO - Chain [1] start processing\n",
      "22:31:20 - cmdstanpy - INFO - Chain [1] done processing\n",
      "22:31:20 - cmdstanpy - INFO - Chain [1] start processing\n",
      "22:31:20 - cmdstanpy - INFO - Chain [1] done processing\n",
      "[I 2024-11-30 22:31:20,701] Trial 46 finished with value: 0.4509158837280578 and parameters: {'changepoint_prior_scale': 0.0016516032575246869, 'seasonality_prior_scale': 0.9400811184273543, 'holidays_prior_scale': 3.279720014721767, 'seasonality_mode': 'additive'}. Best is trial 44 with value: 0.4396953858712598.\n",
      "22:31:20 - cmdstanpy - INFO - Chain [1] start processing\n",
      "22:31:20 - cmdstanpy - INFO - Chain [1] done processing\n"
     ]
    },
    {
     "data": {
      "application/vnd.jupyter.widget-view+json": {
       "model_id": "60d890da0c0a405f879a8d60f4ca8219",
       "version_major": 2,
       "version_minor": 0
      },
      "text/plain": [
       "  0%|          | 0/3 [00:00<?, ?it/s]"
      ]
     },
     "metadata": {},
     "output_type": "display_data"
    },
    {
     "name": "stderr",
     "output_type": "stream",
     "text": [
      "22:31:21 - cmdstanpy - INFO - Chain [1] start processing\n",
      "22:31:21 - cmdstanpy - INFO - Chain [1] done processing\n",
      "22:31:21 - cmdstanpy - INFO - Chain [1] start processing\n",
      "22:31:21 - cmdstanpy - INFO - Chain [1] done processing\n",
      "22:31:21 - cmdstanpy - INFO - Chain [1] start processing\n",
      "22:31:21 - cmdstanpy - INFO - Chain [1] done processing\n",
      "[I 2024-11-30 22:31:21,611] Trial 47 finished with value: 0.44454793185161245 and parameters: {'changepoint_prior_scale': 0.001035124674437663, 'seasonality_prior_scale': 0.010541980105700661, 'holidays_prior_scale': 8.921082846607183, 'seasonality_mode': 'additive'}. Best is trial 44 with value: 0.4396953858712598.\n",
      "22:31:21 - cmdstanpy - INFO - Chain [1] start processing\n",
      "22:31:21 - cmdstanpy - INFO - Chain [1] done processing\n"
     ]
    },
    {
     "data": {
      "application/vnd.jupyter.widget-view+json": {
       "model_id": "387e0dde5c354011a9b8f20fbe151189",
       "version_major": 2,
       "version_minor": 0
      },
      "text/plain": [
       "  0%|          | 0/3 [00:00<?, ?it/s]"
      ]
     },
     "metadata": {},
     "output_type": "display_data"
    },
    {
     "name": "stderr",
     "output_type": "stream",
     "text": [
      "22:31:22 - cmdstanpy - INFO - Chain [1] start processing\n",
      "22:31:22 - cmdstanpy - INFO - Chain [1] done processing\n",
      "22:31:22 - cmdstanpy - INFO - Chain [1] start processing\n",
      "22:31:22 - cmdstanpy - INFO - Chain [1] done processing\n",
      "22:31:22 - cmdstanpy - INFO - Chain [1] start processing\n",
      "22:31:22 - cmdstanpy - INFO - Chain [1] done processing\n",
      "[I 2024-11-30 22:31:22,846] Trial 48 finished with value: 0.47477318299395743 and parameters: {'changepoint_prior_scale': 0.49791635014023, 'seasonality_prior_scale': 0.032586922807796834, 'holidays_prior_scale': 0.022350986452727192, 'seasonality_mode': 'additive'}. Best is trial 44 with value: 0.4396953858712598.\n",
      "22:31:22 - cmdstanpy - INFO - Chain [1] start processing\n",
      "22:31:23 - cmdstanpy - INFO - Chain [1] done processing\n"
     ]
    },
    {
     "data": {
      "application/vnd.jupyter.widget-view+json": {
       "model_id": "28c7a762287b4ec9955c5748fa4a80ae",
       "version_major": 2,
       "version_minor": 0
      },
      "text/plain": [
       "  0%|          | 0/3 [00:00<?, ?it/s]"
      ]
     },
     "metadata": {},
     "output_type": "display_data"
    },
    {
     "name": "stderr",
     "output_type": "stream",
     "text": [
      "22:31:23 - cmdstanpy - INFO - Chain [1] start processing\n",
      "22:31:23 - cmdstanpy - INFO - Chain [1] done processing\n",
      "22:31:23 - cmdstanpy - INFO - Chain [1] start processing\n",
      "22:31:23 - cmdstanpy - INFO - Chain [1] done processing\n",
      "22:31:23 - cmdstanpy - INFO - Chain [1] start processing\n",
      "22:31:23 - cmdstanpy - INFO - Chain [1] done processing\n",
      "[I 2024-11-30 22:31:23,737] Trial 49 finished with value: 0.5324826508509332 and parameters: {'changepoint_prior_scale': 0.002133715908975894, 'seasonality_prior_scale': 0.06146694276763226, 'holidays_prior_scale': 0.07644704182237474, 'seasonality_mode': 'multiplicative'}. Best is trial 44 with value: 0.4396953858712598.\n",
      "22:31:23 - cmdstanpy - INFO - Chain [1] start processing\n",
      "22:31:23 - cmdstanpy - INFO - Chain [1] done processing\n"
     ]
    },
    {
     "name": "stdout",
     "output_type": "stream",
     "text": [
      "Best Parameters: {'changepoint_prior_scale': 0.0010641213815824788, 'seasonality_prior_scale': 0.017571820852098644, 'holidays_prior_scale': 5.935567700550306, 'seasonality_mode': 'additive'}\n"
     ]
    },
    {
     "data": {
      "text/plain": [
       "<prophet.forecaster.Prophet at 0x1e571c94e90>"
      ]
     },
     "execution_count": 6,
     "metadata": {},
     "output_type": "execute_result"
    }
   ],
   "source": [
    "# Optimize using Optuna\n",
    "study = optuna.create_study(direction='minimize')\n",
    "study.optimize(optimize_prophet, n_trials=50)\n",
    "\n",
    "# Best parameters\n",
    "best_params = study.best_params\n",
    "print(\"Best Parameters:\", best_params)\n",
    "\n",
    "# Train model with optimized parameters\n",
    "optimized_model = Prophet(**best_params)\n",
    "optimized_model.fit(train_data)"
   ]
  },
  {
   "cell_type": "code",
   "execution_count": 8,
   "metadata": {},
   "outputs": [
    {
     "name": "stdout",
     "output_type": "stream",
     "text": [
      "Best Parameters: {'changepoint_prior_scale': 0.0010641213815824788, 'seasonality_prior_scale': 0.017571820852098644, 'holidays_prior_scale': 5.935567700550306, 'seasonality_mode': 'additive'}\n"
     ]
    }
   ],
   "source": [
    "# Best parameters\n",
    "best_params = study.best_params\n",
    "print(\"Best Parameters:\", best_params)\n"
   ]
  },
  {
   "cell_type": "markdown",
   "metadata": {},
   "source": [
    "# Model Predictions"
   ]
  },
  {
   "cell_type": "code",
   "execution_count": null,
   "metadata": {},
   "outputs": [],
   "source": [
    "# Generate the future dataframe and forecast\n",
    "future = optimized_model.make_future_dataframe(periods=36, freq='ME')  # Add 36 months to the end of training data\n",
    "forecast = optimized_model.predict(future)\n",
    "\n",
    "## Evaluate on test data\n",
    "test_data['ds'] = test_data['ds'].dt.to_period('M').dt.to_timestamp('M')\n",
    "\n",
    "# Convert to plain datetime for comparison\n",
    "forecast_dates = pd.to_datetime(forecast['ds'])\n",
    "test_dates = pd.to_datetime(test_data['ds'])\n",
    "\n",
    "# Find common dates manually using set operations\n",
    "common_dates = list(set(forecast_dates) & set(test_dates))  # Use intersection of sets\n",
    "\n",
    "# Align forecast and test data on common dates\n",
    "evaluation = test_data.set_index('ds').loc[common_dates]\n",
    "evaluation = evaluation.join(forecast.set_index('ds')[['yhat']], how='inner')\n",
    "evaluation = evaluation.dropna(subset=['y', 'yhat'])\n",
    "\n",
    "# Model evaluation metrics\n",
    "actuals = evaluation['y'].values\n",
    "predictions = evaluation['yhat'].values\n",
    "mse = mean_squared_error(actuals, predictions)\n",
    "rmse = np.sqrt(mse)\n",
    "mae = mean_absolute_error(actuals, predictions)\n",
    "mape = np.mean(np.abs((actuals - predictions) / actuals)) * 100\n",
    "\n",
    "# Print final model evaluation statistics\n",
    "print(f\"Final Model Evaluation:\")\n",
    "print(f\"Mean Squared Error (MSE): {mse}\")\n",
    "print(f\"Root Mean Squared Error (RMSE): {rmse}\")\n",
    "print(f\"Mean Absolute Error (MAE): {mae}\")\n",
    "print(f\"Mean Absolute Percentage Error (MAPE): {mape}\")"
   ]
  },
  {
   "cell_type": "markdown",
   "metadata": {},
   "source": [
    "# Visualizations"
   ]
  },
  {
   "cell_type": "code",
   "execution_count": null,
   "metadata": {},
   "outputs": [],
   "source": [
    "# Plot results\n",
    "plt.figure(figsize=(10, 6))\n",
    "plt.plot(forecast['ds'], forecast['yhat'], label='Forecasted', linestyle='-', linewidth=2)\n",
    "plt.scatter(evaluation.index, evaluation['y'], label='Test Actuals', color='red', marker='o')\n",
    "plt.title(\"Optimized Prophet Forecast vs Test Set - Median Hourly Wage ($)\", fontsize=14)\n",
    "plt.xlabel(\"Date\", fontsize=12)\n",
    "plt.ylabel(\"Median Hourly Wage ($)\", fontsize=12)\n",
    "plt.legend(title=\"Legend\", fontsize=10)\n",
    "plt.grid(visible=True, linestyle='--', alpha=0.6)\n",
    "plt.show()"
   ]
  },
  {
   "cell_type": "code",
   "execution_count": null,
   "metadata": {},
   "outputs": [],
   "source": [
    "# Generate plot\n",
    "fig = plot_plotly(optimized_model, forecast)\n",
    "\n",
    "# Add labels and title\n",
    "fig.update_layout(\n",
    "    title=\"Prophet Forecast - Median Hourly Wage ($)\",                 \n",
    "    xaxis_title=\"Date\",                       \n",
    "    yaxis_title=\"Median Hourly Wage ($)\",        \n",
    "    legend_title=\"Legend\",                   \n",
    "    font=dict(size=12),                       \n",
    ")\n",
    "\n",
    "# Show plot\n",
    "fig.show()"
   ]
  },
  {
   "cell_type": "code",
   "execution_count": null,
   "metadata": {},
   "outputs": [],
   "source": [
    "# Generate plot\n",
    "fig = plot_plotly(optimized_model, forecast)\n",
    "\n",
    "# Add test data \n",
    "fig.add_trace(\n",
    "    go.Scatter(\n",
    "        x=test_data['ds'],  # x-axis (test data dates)\n",
    "        y=test_data['y'],  # y-axis (actual values)\n",
    "        mode='markers+lines',\n",
    "        name='True Values (Test Data)',\n",
    "        line=dict(color='red', dash='dot'),  \n",
    "        marker=dict(color='red')\n",
    "    )\n",
    ")\n",
    "\n",
    "# Adjust x-axis range (2021-2023)\n",
    "fig.update_layout(\n",
    "    xaxis=dict(\n",
    "        range=['2021-01-01', '2023-12-31'],  # Set x-axis range\n",
    "        title='Date',  # Add x-axis title\n",
    "    ),\n",
    "    yaxis=dict(\n",
    "        title='Median Hourly Wage ($)',  # Add y-axis title\n",
    "    ),\n",
    "    title='Prophet Forecast with Test Data (2021-2023) - Median Hourly Wage ($)',  # Add plot title\n",
    ")\n",
    "\n",
    "# Show plot\n",
    "fig.show()"
   ]
  },
  {
   "cell_type": "code",
   "execution_count": null,
   "metadata": {},
   "outputs": [],
   "source": [
    "# Generate plot\n",
    "fig = plot_components_plotly(optimized_model, forecast)\n",
    "\n",
    "# Add title and labels\n",
    "fig.update_layout(\n",
    "    title=\"Prophet Forecast - Median Hourly Wage ($)\",     \n",
    "    font=dict(size=12),                      \n",
    ")       \n",
    "\n",
    "# Show plot\n",
    "fig.show()"
   ]
  },
  {
   "cell_type": "markdown",
   "metadata": {},
   "source": [
    "# Optional: Download interactive plots (html)"
   ]
  },
  {
   "cell_type": "code",
   "execution_count": null,
   "metadata": {},
   "outputs": [],
   "source": [
    "# 1. Generate the first plot\n",
    "fig1 = plot_plotly(optimized_model, forecast)\n",
    "fig1.update_layout(\n",
    "    title=\"Prophet Forecast - Median Hourly Wage ($)\",\n",
    "    xaxis_title=\"Date\",\n",
    "    yaxis_title=\"Median Hourly Wage ($)\",\n",
    "    legend_title=\"Legend\",\n",
    "    font=dict(size=12),\n",
    ")\n",
    "\n",
    "# Save the first plot as an HTML string\n",
    "html1 = pio.to_html(fig1, full_html=False)\n",
    "\n",
    "# 2. Generate the second plot\n",
    "fig2 = plot_plotly(optimized_model, forecast)\n",
    "fig2.add_trace(\n",
    "    go.Scatter(\n",
    "        x=test_data['ds'],  # x-axis (test data dates)\n",
    "        y=test_data['y'],  # y-axis (actual values)\n",
    "        mode='markers+lines',\n",
    "        name='True Values (Test Data)',\n",
    "        line=dict(color='red', dash='dot'),\n",
    "        marker=dict(color='red')\n",
    "    )\n",
    ")\n",
    "fig2.update_layout(\n",
    "    xaxis=dict(\n",
    "        range=['2021-01-01', '2023-12-31'],  # Set x-axis range\n",
    "        title='Date',  # Add x-axis title\n",
    "    ),\n",
    "    yaxis=dict(\n",
    "        title='Median Hourly Wage ($)',  # Add y-axis title\n",
    "    ),\n",
    "    title='Prophet Forecast with Test Data (2021-2023) - Median Hourly Wage ($)',\n",
    ")\n",
    "\n",
    "# Save the second plot as an HTML string\n",
    "html2 = pio.to_html(fig2, full_html=False)\n",
    "\n",
    "# 3. Generate the third plot\n",
    "fig3 = plot_components_plotly(optimized_model, forecast)\n",
    "fig3.update_layout(\n",
    "    title=\"Prophet Forecast - Components (Median Hourly Wage $)\",\n",
    "    font=dict(size=12),\n",
    ")\n",
    "\n",
    "# Save the third plot as an HTML string\n",
    "html3 = pio.to_html(fig3, full_html=False)\n",
    "\n",
    "# Combine all HTML strings into one HTML file\n",
    "combined_html = f\"\"\"\n",
    "<html>\n",
    "<head>\n",
    "    <title>Prophet Forecast Plots</title>\n",
    "</head>\n",
    "<body>\n",
    "    <h1>Prophet Forecast - Interactive Plots</h1>\n",
    "    <h2>1. Full Forecast</h2>\n",
    "    {html1}\n",
    "    <h2>2. Forecast with Test Data</h2>\n",
    "    {html2}\n",
    "    <h2>3. Forecast Components</h2>\n",
    "    {html3}\n",
    "</body>\n",
    "</html>\n",
    "\"\"\"\n",
    "\n",
    "# Save the combined HTML to a file\n",
    "with open(\"FB Prophet forecast plots (wage).html\", \"w\") as f:\n",
    "    f.write(combined_html)\n",
    "\n",
    "# Print a message indicating where the file is saved\n",
    "print(\"HTML file saved as 'FB Prophet forecast plots (wage).html'. Open this file to view the interactive plots.\")\n"
   ]
  }
 ],
 "metadata": {
  "kernelspec": {
   "display_name": "base",
   "language": "python",
   "name": "python3"
  },
  "language_info": {
   "codemirror_mode": {
    "name": "ipython",
    "version": 3
   },
   "file_extension": ".py",
   "mimetype": "text/x-python",
   "name": "python",
   "nbconvert_exporter": "python",
   "pygments_lexer": "ipython3",
   "version": "3.12.4"
  }
 },
 "nbformat": 4,
 "nbformat_minor": 2
}
