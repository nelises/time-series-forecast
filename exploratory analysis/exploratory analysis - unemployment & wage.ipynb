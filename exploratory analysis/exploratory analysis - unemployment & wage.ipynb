{
 "cells": [
  {
   "cell_type": "markdown",
   "metadata": {},
   "source": [
    "# Packages & Data Loading"
   ]
  },
  {
   "cell_type": "code",
   "execution_count": 122,
   "metadata": {},
   "outputs": [],
   "source": [
    "import pandas as pd\n",
    "from statsmodels.tsa.stattools import adfuller\n",
    "import matplotlib.pyplot as plt\n",
    "from statsmodels.graphics.tsaplots import plot_acf, plot_pacf"
   ]
  },
  {
   "cell_type": "code",
   "execution_count": 123,
   "metadata": {},
   "outputs": [],
   "source": [
    "# Load datasets\n",
    "unemployment_df = pd.read_csv(\"D:\\\\OneDrive (Personal)\\\\OneDrive\\\\~ TMU 2023\\\\CIND 860 - Adv. Data Analytics Project\\\\05 - Lit. Review, Data Description (25%)\\\\Datasets - Raw\\\\Unemployment Rate\\\\Unemployment Dataset_Selected Variables.csv\")\n",
    "wage_df = pd.read_csv(\"D:\\\\OneDrive (Personal)\\\\OneDrive\\\\~ TMU 2023\\\\CIND 860 - Adv. Data Analytics Project\\\\05 - Lit. Review, Data Description (25%)\\\\Datasets - Raw\\\\Wage Rate\\\\Wage Dataset_Selected Variables.csv\")"
   ]
  },
  {
   "cell_type": "code",
   "execution_count": 124,
   "metadata": {},
   "outputs": [],
   "source": [
    "# Check and drop unnecessary columns\n",
    "columns_to_drop = ['DGUID', 'UOM', 'UOM_ID', 'SCALAR_FACTOR', 'SCALAR_ID', 'VECTOR', 'COORDINATE', 'STATUS', 'SYMBOL', 'TERMINATED', 'DECIMALS']\n",
    "columns_to_drop_unemployment = [col for col in columns_to_drop if col in unemployment_df.columns]\n",
    "columns_to_drop_wage = [col for col in columns_to_drop if col in wage_df.columns]\n",
    "\n",
    "data_employment = unemployment_df.drop(columns=columns_to_drop_unemployment)\n",
    "data_wage = wage_df.drop(columns=columns_to_drop_wage)\n",
    "\n",
    "# Ensure column names are normalized (lowercase and replace spaces with underscores)\n",
    "data_employment.columns = [col.lower().replace(' ', '_') for col in data_employment.columns]\n",
    "data_wage.columns = [col.lower().replace(' ', '_') for col in data_wage.columns]\n",
    "\n",
    "# Rename the column from 'north_american_industry_classification_system_(naics)' to 'industry'\n",
    "data_employment.rename(columns={'north_american_industry_classification_system_(naics)': 'industry'}, inplace=True)\n",
    "data_wage.rename(columns={'north_american_industry_classification_system_(naics)': 'industry'}, inplace=True)\n",
    "\n",
    "# Rename the column from 'labour_force_characteristics' to 'labour_force'\n",
    "data_employment.rename(columns={'labour_force_characteristics': 'labour_force'}, inplace=True)\n",
    "data_wage.rename(columns={'labour_force_characteristics': 'labour_force'}, inplace=True)"
   ]
  },
  {
   "cell_type": "code",
   "execution_count": 125,
   "metadata": {},
   "outputs": [
    {
     "name": "stdout",
     "output_type": "stream",
     "text": [
      "   ref_date                        geo       labour_force  \\\n",
      "0      1997  Newfoundland and Labrador  Unemployment rate   \n",
      "1      1998  Newfoundland and Labrador  Unemployment rate   \n",
      "2      1999  Newfoundland and Labrador  Unemployment rate   \n",
      "3      2000  Newfoundland and Labrador  Unemployment rate   \n",
      "4      2001  Newfoundland and Labrador  Unemployment rate   \n",
      "\n",
      "                                 industry    sex       age_group  value  \n",
      "0  Agriculture [111-112, 1100, 1151-1152]  Males  15 to 24 years    NaN  \n",
      "1  Agriculture [111-112, 1100, 1151-1152]  Males  15 to 24 years    NaN  \n",
      "2  Agriculture [111-112, 1100, 1151-1152]  Males  15 to 24 years    NaN  \n",
      "3  Agriculture [111-112, 1100, 1151-1152]  Males  15 to 24 years    NaN  \n",
      "4  Agriculture [111-112, 1100, 1151-1152]  Males  15 to 24 years    NaN  \n"
     ]
    }
   ],
   "source": [
    "print(data_employment.head())"
   ]
  },
  {
   "cell_type": "code",
   "execution_count": 126,
   "metadata": {},
   "outputs": [
    {
     "name": "stdout",
     "output_type": "stream",
     "text": [
      "   ref_date                        geo                     wages  \\\n",
      "0      1997  Newfoundland and Labrador  Average hourly wage rate   \n",
      "1      1998  Newfoundland and Labrador  Average hourly wage rate   \n",
      "2      1999  Newfoundland and Labrador  Average hourly wage rate   \n",
      "3      2000  Newfoundland and Labrador  Average hourly wage rate   \n",
      "4      2001  Newfoundland and Labrador  Average hourly wage rate   \n",
      "\n",
      "          type_of_work                                industry    sex  \\\n",
      "0  Full-time employees  Agriculture [111-112, 1100, 1151-1152]  Males   \n",
      "1  Full-time employees  Agriculture [111-112, 1100, 1151-1152]  Males   \n",
      "2  Full-time employees  Agriculture [111-112, 1100, 1151-1152]  Males   \n",
      "3  Full-time employees  Agriculture [111-112, 1100, 1151-1152]  Males   \n",
      "4  Full-time employees  Agriculture [111-112, 1100, 1151-1152]  Males   \n",
      "\n",
      "        age_group  value  \n",
      "0  15 to 24 years    NaN  \n",
      "1  15 to 24 years    NaN  \n",
      "2  15 to 24 years    NaN  \n",
      "3  15 to 24 years    NaN  \n",
      "4  15 to 24 years    NaN  \n"
     ]
    }
   ],
   "source": [
    "print(data_wage.head())"
   ]
  },
  {
   "cell_type": "markdown",
   "metadata": {},
   "source": [
    "## Merge the datasets"
   ]
  },
  {
   "cell_type": "code",
   "execution_count": 127,
   "metadata": {},
   "outputs": [
    {
     "name": "stdout",
     "output_type": "stream",
     "text": [
      "Index(['ref_date', 'geo', 'labour_force', 'industry', 'sex', 'age_group',\n",
      "       'value'],\n",
      "      dtype='object')\n",
      "Index(['ref_date', 'geo', 'wages', 'type_of_work', 'industry', 'sex',\n",
      "       'age_group', 'value'],\n",
      "      dtype='object')\n"
     ]
    }
   ],
   "source": [
    "print(data_employment.columns)\n",
    "print(data_wage.columns)\n"
   ]
  },
  {
   "cell_type": "code",
   "execution_count": 128,
   "metadata": {},
   "outputs": [],
   "source": [
    "# Merge datasets on common columns\n",
    "merged_df = pd.merge(data_employment, data_wage, \n",
    "                     on=[\"ref_date\", \"geo\", \"industry\", \"sex\", \"age_group\"],\n",
    "                     how=\"outer\",\n",
    "                     suffixes=('_unemployment', '_wage'))\n"
   ]
  },
  {
   "cell_type": "code",
   "execution_count": 129,
   "metadata": {},
   "outputs": [
    {
     "data": {
      "application/vnd.jupyter.widget-view+json": {
       "model_id": "42bb1544bf964e8ea2481e27e599a212",
       "version_major": 2,
       "version_minor": 0
      },
      "text/plain": [
       "Summarize dataset:   0%|          | 0/5 [00:00<?, ?it/s]"
      ]
     },
     "metadata": {},
     "output_type": "display_data"
    },
    {
     "data": {
      "application/vnd.jupyter.widget-view+json": {
       "model_id": "efc26c80f5524cb58f3175e1460ab656",
       "version_major": 2,
       "version_minor": 0
      },
      "text/plain": [
       "Generate report structure:   0%|          | 0/1 [00:00<?, ?it/s]"
      ]
     },
     "metadata": {},
     "output_type": "display_data"
    },
    {
     "data": {
      "application/vnd.jupyter.widget-view+json": {
       "model_id": "a688e146185c42d589e0156f989c47d7",
       "version_major": 2,
       "version_minor": 0
      },
      "text/plain": [
       "Render HTML:   0%|          | 0/1 [00:00<?, ?it/s]"
      ]
     },
     "metadata": {},
     "output_type": "display_data"
    },
    {
     "data": {
      "application/vnd.jupyter.widget-view+json": {
       "model_id": "a3c03512459c45dda9fc889eaec0e8b2",
       "version_major": 2,
       "version_minor": 0
      },
      "text/plain": [
       "Export report to file:   0%|          | 0/1 [00:00<?, ?it/s]"
      ]
     },
     "metadata": {},
     "output_type": "display_data"
    }
   ],
   "source": [
    "from ydata_profiling import ProfileReport\n",
    "\n",
    "\n",
    "# Generate the report\n",
    "profile = ProfileReport(merged_df,title=\"EDA Report\")\n",
    "\n",
    "# Save the report to .html\n",
    "profile.to_file(\"eda_report.html\")"
   ]
  },
  {
   "cell_type": "markdown",
   "metadata": {},
   "source": [
    "# Initial Data Inspection"
   ]
  },
  {
   "cell_type": "code",
   "execution_count": 130,
   "metadata": {},
   "outputs": [
    {
     "name": "stdout",
     "output_type": "stream",
     "text": [
      "\n",
      "    ref_date      geo       labour_force                              industry  \\\n",
      "0      1997  Alberta  Unemployment rate  Accommodation and food services [72]   \n",
      "1      1997  Alberta  Unemployment rate  Accommodation and food services [72]   \n",
      "2      1997  Alberta  Unemployment rate  Accommodation and food services [72]   \n",
      "\n",
      "       sex       age_group  value_unemployment                     wages  \\\n",
      "0  Females  15 to 24 years                 8.2  Average hourly wage rate   \n",
      "1  Females  15 to 24 years                 8.2  Average hourly wage rate   \n",
      "2  Females  25 to 54 years                 5.0  Average hourly wage rate   \n",
      "\n",
      "          type_of_work  value_wage  \n",
      "0  Full-time employees         7.3  \n",
      "1  Part-time employees         6.1  \n",
      "2  Full-time employees         8.7   \n",
      "\n",
      "Number of obs and features: (55080, 10) \n",
      "\n",
      "Data types: ref_date                int64\n",
      "geo                    object\n",
      "labour_force           object\n",
      "industry               object\n",
      "sex                    object\n",
      "age_group              object\n",
      "value_unemployment    float64\n",
      "wages                  object\n",
      "type_of_work           object\n",
      "value_wage            float64\n",
      "dtype: object \n",
      "\n",
      "Number of duplicated values: Empty DataFrame\n",
      "Columns: [ref_date, geo, labour_force, industry, sex, age_group, value_unemployment, wages, type_of_work, value_wage]\n",
      "Index: [] \n",
      "\n",
      "Number of missing values per feature: ref_date                  0\n",
      "geo                       0\n",
      "labour_force           6480\n",
      "industry                  0\n",
      "sex                       0\n",
      "age_group                 0\n",
      "value_unemployment    42744\n",
      "wages                  3240\n",
      "type_of_work           3240\n",
      "value_wage            23376\n",
      "dtype: int64 \n",
      "\n",
      "Number of missing values: 79080 \n",
      "\n",
      "Percentage of missing values: 14.4 \n",
      "\n"
     ]
    }
   ],
   "source": [
    "# Dataset Overview\n",
    "print(\"\\n\", merged_df.head(3),\"\\n\") # preview a sample\n",
    "\n",
    "print(\"Number of obs and features:\", merged_df.shape,\"\\n\")  # number of observations and features\n",
    "\n",
    "print(\"Data types:\", merged_df.dtypes,\"\\n\") # data types\n",
    "\n",
    "print(\"Number of duplicated values:\", merged_df[merged_df.duplicated()],\"\\n\") # check duplicated values\n",
    "\n",
    "print(\"Number of missing values per feature:\", merged_df.isna().sum(),\"\\n\") # missing values per feature\n",
    "\n",
    "print(\"Number of missing values:\", merged_df.isna().sum().sum(),\"\\n\") # number of missing cells\n",
    "print(\"Percentage of missing values:\", round(merged_df.isna().sum().sum() / merged_df.size * 100, 1),\"\\n\") # percentage of missing cells\n"
   ]
  },
  {
   "cell_type": "code",
   "execution_count": 131,
   "metadata": {},
   "outputs": [
    {
     "name": "stdout",
     "output_type": "stream",
     "text": [
      "Value counts for column 'ref_date':\n",
      "ref_date\n",
      "1997    2040\n",
      "2011    2040\n",
      "2022    2040\n",
      "2021    2040\n",
      "2020    2040\n",
      "2019    2040\n",
      "2018    2040\n",
      "2017    2040\n",
      "2016    2040\n",
      "2015    2040\n",
      "2014    2040\n",
      "2013    2040\n",
      "2012    2040\n",
      "2010    2040\n",
      "1998    2040\n",
      "2009    2040\n",
      "2008    2040\n",
      "2007    2040\n",
      "2006    2040\n",
      "2005    2040\n",
      "2004    2040\n",
      "2003    2040\n",
      "2002    2040\n",
      "2001    2040\n",
      "2000    2040\n",
      "1999    2040\n",
      "2023    2040\n",
      "Name: count, dtype: int64\n",
      "\n",
      "--------------------------------------------------\n",
      "\n",
      "Value counts for column 'geo':\n",
      "geo\n",
      "Alberta                      5508\n",
      "British Columbia             5508\n",
      "Manitoba                     5508\n",
      "New Brunswick                5508\n",
      "Newfoundland and Labrador    5508\n",
      "Nova Scotia                  5508\n",
      "Ontario                      5508\n",
      "Prince Edward Island         5508\n",
      "Quebec                       5508\n",
      "Saskatchewan                 5508\n",
      "Name: count, dtype: int64\n",
      "\n",
      "--------------------------------------------------\n",
      "\n",
      "Value counts for column 'labour_force':\n",
      "labour_force\n",
      "Unemployment rate    48600\n",
      "Name: count, dtype: int64\n",
      "\n",
      "--------------------------------------------------\n",
      "\n",
      "Value counts for column 'industry':\n",
      "industry\n",
      "Accommodation and food services [72]                                           3240\n",
      "Agriculture [111-112, 1100, 1151-1152]                                         3240\n",
      "Utilities [22]                                                                 3240\n",
      "Transportation and warehousing [48-49]                                         3240\n",
      "Public administration [91]                                                     3240\n",
      "Professional, scientific and technical services [54]                           3240\n",
      "Other services (except public administration) [81]                             3240\n",
      "Manufacturing [31-33]                                                          3240\n",
      "Information, culture and recreation [51, 71]                                   3240\n",
      "Health care and social assistance [62]                                         3240\n",
      "Forestry, fishing, mining, quarrying, oil and gas [21, 113-114, 1153, 2100]    3240\n",
      "Finance, insurance, real estate, rental and leasing [52-53]                    3240\n",
      "Educational services [61]                                                      3240\n",
      "Construction [23]                                                              3240\n",
      "Business, building and other support services [55-56]                          3240\n",
      "Wholesale and retail trade [41, 44-45]                                         3240\n",
      "Finance, insurance, real estate, rental and leasing [52, 53]                   1620\n",
      "Business, building and other support services [55, 56]                         1620\n",
      "Name: count, dtype: int64\n",
      "\n",
      "--------------------------------------------------\n",
      "\n",
      "Value counts for column 'sex':\n",
      "sex\n",
      "Females    27540\n",
      "Males      27540\n",
      "Name: count, dtype: int64\n",
      "\n",
      "--------------------------------------------------\n",
      "\n",
      "Value counts for column 'age_group':\n",
      "age_group\n",
      "15 to 24 years       18360\n",
      "25 to 54 years       18360\n",
      "55 years and over    18360\n",
      "Name: count, dtype: int64\n",
      "\n",
      "--------------------------------------------------\n",
      "\n",
      "Value counts for column 'value_unemployment':\n",
      "value_unemployment\n",
      "3.4     170\n",
      "3.7     161\n",
      "4.2     159\n",
      "3.9     156\n",
      "4.5     153\n",
      "       ... \n",
      "27.7      2\n",
      "32.6      2\n",
      "45.5      2\n",
      "29.8      2\n",
      "25.6      1\n",
      "Name: count, Length: 314, dtype: int64\n",
      "\n",
      "--------------------------------------------------\n",
      "\n",
      "Value counts for column 'wages':\n",
      "wages\n",
      "Average hourly wage rate    51840\n",
      "Name: count, dtype: int64\n",
      "\n",
      "--------------------------------------------------\n",
      "\n",
      "Value counts for column 'type_of_work':\n",
      "type_of_work\n",
      "Full-time employees    25920\n",
      "Part-time employees    25920\n",
      "Name: count, dtype: int64\n",
      "\n",
      "--------------------------------------------------\n",
      "\n",
      "Value counts for column 'value_wage':\n",
      "value_wage\n",
      "11.74    29\n",
      "13.33    29\n",
      "15.28    29\n",
      "15.22    27\n",
      "14.12    27\n",
      "         ..\n",
      "48.57     1\n",
      "51.07     1\n",
      "45.72     1\n",
      "56.06     1\n",
      "46.53     1\n",
      "Name: count, Length: 4011, dtype: int64\n",
      "\n",
      "--------------------------------------------------\n",
      "\n"
     ]
    }
   ],
   "source": [
    "# Value counts for all columns in merged_df\n",
    "for column in merged_df.columns:\n",
    "    print(f\"Value counts for column '{column}':\")\n",
    "    print(merged_df[column].value_counts())\n",
    "    print(\"\\n\" + \"-\"*50 + \"\\n\")  # Separator for readability\n"
   ]
  },
  {
   "cell_type": "markdown",
   "metadata": {},
   "source": [
    "# Missing Values "
   ]
  },
  {
   "cell_type": "markdown",
   "metadata": {},
   "source": [
    "## Inspect Missing Values"
   ]
  },
  {
   "cell_type": "code",
   "execution_count": 132,
   "metadata": {},
   "outputs": [
    {
     "name": "stdout",
     "output_type": "stream",
     "text": [
      "Percentage of rows with missing data: 73.21%\n"
     ]
    }
   ],
   "source": [
    "# Filter rows based on the conditions:\n",
    "# 1. There is data in 'labour force' and a missing value in 'value_unemployment'.\n",
    "# 2. There is data in 'wages' and a missing value in 'type_of_work' AND/OR 'value_wage'.\n",
    "data_missing = merged_df[\n",
    "    ((merged_df['labour_force'].notna()) & (merged_df['value_unemployment'].isna())) |\n",
    "    ((merged_df['wages'].notna()) & (merged_df[['type_of_work', 'value_wage']].isna().any(axis=1)))\n",
    "]\n",
    "\n",
    "# Total number of rows in the original dataset\n",
    "total_rows = merged_df.shape[0]\n",
    "\n",
    "# Count the number of rows with missing data\n",
    "missing_rows = data_missing.shape[0]\n",
    "\n",
    "# Calculate the percentage of rows with missing data\n",
    "missing_percentage = (missing_rows / total_rows) * 100\n",
    "\n",
    "# Output the result\n",
    "print(f\"Percentage of rows with missing data: {missing_percentage:.2f}%\")\n"
   ]
  },
  {
   "cell_type": "code",
   "execution_count": 133,
   "metadata": {},
   "outputs": [
    {
     "name": "stdout",
     "output_type": "stream",
     "text": [
      "Value counts for column 'ref_date':\n",
      "ref_date\n",
      "2022    1567\n",
      "2001    1551\n",
      "2000    1549\n",
      "2023    1541\n",
      "2018    1539\n",
      "2005    1536\n",
      "2006    1526\n",
      "2007    1523\n",
      "2008    1521\n",
      "2013    1510\n",
      "1998    1507\n",
      "2003    1500\n",
      "2017    1500\n",
      "2019    1499\n",
      "1997    1498\n",
      "2002    1498\n",
      "2014    1494\n",
      "1999    1490\n",
      "2004    1488\n",
      "2011    1482\n",
      "2016    1477\n",
      "2012    1470\n",
      "2015    1470\n",
      "2021    1443\n",
      "2010    1441\n",
      "2009    1437\n",
      "2020    1265\n",
      "Name: count, dtype: int64\n",
      "\n",
      "--------------------------------------------------\n",
      "\n",
      "Value counts for column 'geo':\n",
      "geo\n",
      "Prince Edward Island         4845\n",
      "Newfoundland and Labrador    4677\n",
      "Saskatchewan                 4507\n",
      "New Brunswick                4453\n",
      "Manitoba                     4310\n",
      "Alberta                      4213\n",
      "Nova Scotia                  4176\n",
      "British Columbia             3831\n",
      "Quebec                       2952\n",
      "Ontario                      2358\n",
      "Name: count, dtype: int64\n",
      "\n",
      "--------------------------------------------------\n",
      "\n",
      "Value counts for column 'labour_force':\n",
      "labour_force\n",
      "Unemployment rate    37914\n",
      "Name: count, dtype: int64\n",
      "\n",
      "--------------------------------------------------\n",
      "\n",
      "Value counts for column 'industry':\n",
      "industry\n",
      "Utilities [22]                                                                 3240\n",
      "Agriculture [111-112, 1100, 1151-1152]                                         3114\n",
      "Public administration [91]                                                     2976\n",
      "Forestry, fishing, mining, quarrying, oil and gas [21, 113-114, 1153, 2100]    2915\n",
      "Professional, scientific and technical services [54]                           2797\n",
      "Other services (except public administration) [81]                             2788\n",
      "Transportation and warehousing [48-49]                                         2692\n",
      "Information, culture and recreation [51, 71]                                   2586\n",
      "Health care and social assistance [62]                                         2532\n",
      "Educational services [61]                                                      2512\n",
      "Construction [23]                                                              2251\n",
      "Manufacturing [31-33]                                                          2101\n",
      "Accommodation and food services [72]                                           1612\n",
      "Finance, insurance, real estate, rental and leasing [52, 53]                   1494\n",
      "Finance, insurance, real estate, rental and leasing [52-53]                    1231\n",
      "Business, building and other support services [55-56]                          1177\n",
      "Business, building and other support services [55, 56]                         1164\n",
      "Wholesale and retail trade [41, 44-45]                                         1140\n",
      "Name: count, dtype: int64\n",
      "\n",
      "--------------------------------------------------\n",
      "\n",
      "Value counts for column 'sex':\n",
      "sex\n",
      "Females    20378\n",
      "Males      19944\n",
      "Name: count, dtype: int64\n",
      "\n",
      "--------------------------------------------------\n",
      "\n",
      "Value counts for column 'age_group':\n",
      "age_group\n",
      "55 years and over    16046\n",
      "15 to 24 years       13894\n",
      "25 to 54 years       10382\n",
      "Name: count, dtype: int64\n",
      "\n",
      "--------------------------------------------------\n",
      "\n",
      "Value counts for column 'value_unemployment':\n",
      "value_unemployment\n",
      "20.0    34\n",
      "33.3    31\n",
      "25.0    27\n",
      "28.6    25\n",
      "16.7    21\n",
      "        ..\n",
      "25.1     1\n",
      "33.6     1\n",
      "19.5     1\n",
      "33.9     1\n",
      "1.5      1\n",
      "Name: count, Length: 293, dtype: int64\n",
      "\n",
      "--------------------------------------------------\n",
      "\n",
      "Value counts for column 'wages':\n",
      "wages\n",
      "Average hourly wage rate    37664\n",
      "Name: count, dtype: int64\n",
      "\n",
      "--------------------------------------------------\n",
      "\n",
      "Value counts for column 'type_of_work':\n",
      "type_of_work\n",
      "Part-time employees    20362\n",
      "Full-time employees    17302\n",
      "Name: count, dtype: int64\n",
      "\n",
      "--------------------------------------------------\n",
      "\n",
      "Value counts for column 'value_wage':\n",
      "value_wage\n",
      "16.47    17\n",
      "17.26    17\n",
      "13.34    17\n",
      "15.36    16\n",
      "12.36    16\n",
      "         ..\n",
      "35.39     1\n",
      "6.58      1\n",
      "38.31     1\n",
      "37.43     1\n",
      "46.53     1\n",
      "Name: count, Length: 3712, dtype: int64\n",
      "\n",
      "--------------------------------------------------\n",
      "\n"
     ]
    }
   ],
   "source": [
    "#Value counts for all columns\n",
    "for column in data_missing.columns:\n",
    "    print(f\"Value counts for column '{column}':\")\n",
    "    print(data_missing[column].value_counts())\n",
    "    print(\"\\n\" + \"-\"*50 + \"\\n\")  # Separator for readability\n"
   ]
  },
  {
   "cell_type": "code",
   "execution_count": 134,
   "metadata": {},
   "outputs": [
    {
     "name": "stdout",
     "output_type": "stream",
     "text": [
      "Percentage counts for column 'ref_date':\n",
      "ref_date\n",
      "2022    3.886216\n",
      "2001    3.846535\n",
      "2000    3.841575\n",
      "2023    3.821735\n",
      "2018    3.816775\n",
      "2005    3.809335\n",
      "2006    3.784534\n",
      "2007    3.777094\n",
      "2008    3.772134\n",
      "2013    3.744854\n",
      "1998    3.737414\n",
      "2003    3.720054\n",
      "2017    3.720054\n",
      "2019    3.717574\n",
      "1997    3.715093\n",
      "2002    3.715093\n",
      "2014    3.705173\n",
      "1999    3.695253\n",
      "2004    3.690293\n",
      "2011    3.675413\n",
      "2016    3.663013\n",
      "2012    3.645652\n",
      "2015    3.645652\n",
      "2021    3.578692\n",
      "2010    3.573731\n",
      "2009    3.563811\n",
      "2020    3.137245\n",
      "Name: count, dtype: float64\n",
      "\n",
      "--------------------------------------------------\n",
      "\n",
      "Percentage counts for column 'geo':\n",
      "geo\n",
      "Prince Edward Island         12.015773\n",
      "Newfoundland and Labrador    11.599127\n",
      "Saskatchewan                 11.177521\n",
      "New Brunswick                11.043599\n",
      "Manitoba                     10.688954\n",
      "Alberta                      10.448390\n",
      "Nova Scotia                  10.356629\n",
      "British Columbia              9.501017\n",
      "Quebec                        7.321065\n",
      "Ontario                       5.847924\n",
      "Name: count, dtype: float64\n",
      "\n",
      "--------------------------------------------------\n",
      "\n",
      "Percentage counts for column 'labour_force':\n",
      "labour_force\n",
      "Unemployment rate    94.028074\n",
      "Name: count, dtype: float64\n",
      "\n",
      "--------------------------------------------------\n",
      "\n",
      "Percentage counts for column 'industry':\n",
      "industry\n",
      "Utilities [22]                                                                 8.035316\n",
      "Agriculture [111-112, 1100, 1151-1152]                                         7.722831\n",
      "Public administration [91]                                                     7.380586\n",
      "Forestry, fishing, mining, quarrying, oil and gas [21, 113-114, 1153, 2100]    7.229304\n",
      "Professional, scientific and technical services [54]                           6.936660\n",
      "Other services (except public administration) [81]                             6.914340\n",
      "Transportation and warehousing [48-49]                                         6.676256\n",
      "Information, culture and recreation [51, 71]                                   6.413372\n",
      "Health care and social assistance [62]                                         6.279450\n",
      "Educational services [61]                                                      6.229850\n",
      "Construction [23]                                                              5.582560\n",
      "Manufacturing [31-33]                                                          5.210555\n",
      "Accommodation and food services [72]                                           3.997818\n",
      "Finance, insurance, real estate, rental and leasing [52, 53]                   3.705173\n",
      "Finance, insurance, real estate, rental and leasing [52-53]                    3.052924\n",
      "Business, building and other support services [55-56]                          2.919002\n",
      "Business, building and other support services [55, 56]                         2.886762\n",
      "Wholesale and retail trade [41, 44-45]                                         2.827241\n",
      "Name: count, dtype: float64\n",
      "\n",
      "--------------------------------------------------\n",
      "\n",
      "Percentage counts for column 'sex':\n",
      "sex\n",
      "Females    50.538168\n",
      "Males      49.461832\n",
      "Name: count, dtype: float64\n",
      "\n",
      "--------------------------------------------------\n",
      "\n",
      "Percentage counts for column 'age_group':\n",
      "age_group\n",
      "55 years and over    39.794653\n",
      "15 to 24 years       34.457616\n",
      "25 to 54 years       25.747731\n",
      "Name: count, dtype: float64\n",
      "\n",
      "--------------------------------------------------\n",
      "\n",
      "Percentage counts for column 'value_unemployment':\n",
      "value_unemployment\n",
      "20.0    0.084321\n",
      "33.3    0.076881\n",
      "25.0    0.066961\n",
      "28.6    0.062001\n",
      "16.7    0.052081\n",
      "          ...   \n",
      "25.1    0.002480\n",
      "33.6    0.002480\n",
      "19.5    0.002480\n",
      "33.9    0.002480\n",
      "1.5     0.002480\n",
      "Name: count, Length: 293, dtype: float64\n",
      "\n",
      "--------------------------------------------------\n",
      "\n",
      "Percentage counts for column 'wages':\n",
      "wages\n",
      "Average hourly wage rate    93.408065\n",
      "Name: count, dtype: float64\n",
      "\n",
      "--------------------------------------------------\n",
      "\n",
      "Percentage counts for column 'type_of_work':\n",
      "type_of_work\n",
      "Part-time employees    50.498487\n",
      "Full-time employees    42.909578\n",
      "Name: count, dtype: float64\n",
      "\n",
      "--------------------------------------------------\n",
      "\n",
      "Percentage counts for column 'value_wage':\n",
      "value_wage\n",
      "16.47    0.042161\n",
      "17.26    0.042161\n",
      "13.34    0.042161\n",
      "15.36    0.039681\n",
      "12.36    0.039681\n",
      "           ...   \n",
      "35.39    0.002480\n",
      "6.58     0.002480\n",
      "38.31    0.002480\n",
      "37.43    0.002480\n",
      "46.53    0.002480\n",
      "Name: count, Length: 3712, dtype: float64\n",
      "\n",
      "--------------------------------------------------\n",
      "\n"
     ]
    }
   ],
   "source": [
    "# Percentage value counts for all columns\n",
    "for column in data_missing.columns:\n",
    "    total_count = len(data_missing[column])\n",
    "    print(f\"Percentage counts for column '{column}':\")\n",
    "    \n",
    "    # Calculate the value counts and convert them to percentages\n",
    "    percentage_counts = (data_missing[column].value_counts() / total_count) * 100\n",
    "    \n",
    "    print(percentage_counts)\n",
    "    print(\"\\n\" + \"-\"*50 + \"\\n\")  # Separator for readability\n"
   ]
  },
  {
   "cell_type": "markdown",
   "metadata": {},
   "source": [
    "## Missing Values (Linear Interpolation)"
   ]
  },
  {
   "cell_type": "code",
   "execution_count": 135,
   "metadata": {},
   "outputs": [
    {
     "name": "stdout",
     "output_type": "stream",
     "text": [
      "\n",
      "Missing Unemployment Values in Original Data:\n",
      " 42744\n",
      "\n",
      "Missing Wage Values in Original Data:\n",
      " 23376\n",
      "\n",
      "Missing Unemployment Values After Interpolation in New DataFrame:\n",
      " 0\n",
      "\n",
      "Missing Wage Values After Interpolation in New DataFrame:\n",
      " 0\n"
     ]
    }
   ],
   "source": [
    "# Make a copy of the data\n",
    "interpolated_data = merged_df.copy()\n",
    "\n",
    "# Apply linear interpolation on the 'value' column in the new DataFrame\n",
    "interpolated_data['value_unemployment'] = interpolated_data['value_unemployment'].interpolate(method='linear')\n",
    "interpolated_data['value_wage'] = interpolated_data['value_wage'].interpolate(method='linear')\n",
    "\n",
    "# Verify that missing values have been handled in the new DataFrame\n",
    "print(\"\\nMissing Unemployment Values in Original Data:\\n\", merged_df['value_unemployment'].isnull().sum())\n",
    "print(\"\\nMissing Wage Values in Original Data:\\n\", merged_df['value_wage'].isnull().sum())\n",
    "\n",
    "print(\"\\nMissing Unemployment Values After Interpolation in New DataFrame:\\n\", interpolated_data['value_unemployment'].isnull().sum())\n",
    "print(\"\\nMissing Wage Values After Interpolation in New DataFrame:\\n\", interpolated_data['value_wage'].isnull().sum())\n"
   ]
  },
  {
   "cell_type": "code",
   "execution_count": 136,
   "metadata": {},
   "outputs": [],
   "source": [
    "# Ensure 'ref_date' is in datetime format and set it as the index\n",
    "interpolated_data['ref_date'] = pd.to_datetime(interpolated_data['ref_date'], format='%Y')\n",
    "interpolated_data.set_index('ref_date', inplace=True)"
   ]
  },
  {
   "cell_type": "markdown",
   "metadata": {},
   "source": [
    "### ADF - Unemployment "
   ]
  },
  {
   "cell_type": "code",
   "execution_count": 137,
   "metadata": {},
   "outputs": [
    {
     "name": "stdout",
     "output_type": "stream",
     "text": [
      "\n",
      "ADF Test Results:\n",
      "ADF Statistic: -18.20680945063685\n",
      "p-value: 2.3982079546259774e-30\n",
      "The data is stationary.\n"
     ]
    }
   ],
   "source": [
    "# Perform ADF test on 'value' column to check for stationarity\n",
    "adf_test = adfuller(interpolated_data['value_unemployment'])\n",
    "print(\"\\nADF Test Results:\")\n",
    "print(f\"ADF Statistic: {adf_test[0]}\")\n",
    "print(f\"p-value: {adf_test[1]}\")\n",
    "if adf_test[1] < 0.05:\n",
    "    print(\"The data is stationary.\")\n",
    "else:\n",
    "    print(\"The data is not stationary. Differencing may be required.\")"
   ]
  },
  {
   "cell_type": "code",
   "execution_count": 138,
   "metadata": {},
   "outputs": [
    {
     "name": "stdout",
     "output_type": "stream",
     "text": [
      "ACF and PACF plots saved as 'acf_pacf_plot_unemployment.png'.\n"
     ]
    }
   ],
   "source": [
    "# Plot ACF and PACF to determine p and q\n",
    "plt.figure(figsize=(12, 6))\n",
    "plt.subplot(121)\n",
    "plot_acf(interpolated_data['value_diff'].dropna() if 'value_diff' in interpolated_data else interpolated_data['value_unemployment'], \n",
    "         ax=plt.gca(), lags=40)\n",
    "plt.title(\"ACF Plot\")\n",
    "plt.subplot(122)\n",
    "plot_pacf(interpolated_data['value_diff'].dropna() if 'value_diff' in interpolated_data else interpolated_data['value_unemployment'], \n",
    "          ax=plt.gca(), lags=40)\n",
    "plt.title(\"PACF Plot\")\n",
    "\n",
    "# Save the figure to a file\n",
    "plt.savefig(\"acf_pacf_plot_unemployment.png\")\n",
    "\n",
    "# Inform the user that the plot was saved\n",
    "print(\"ACF and PACF plots saved as 'acf_pacf_plot_unemployment.png'.\")"
   ]
  },
  {
   "cell_type": "markdown",
   "metadata": {},
   "source": [
    "### ADF - Wage"
   ]
  },
  {
   "cell_type": "code",
   "execution_count": 139,
   "metadata": {},
   "outputs": [
    {
     "name": "stdout",
     "output_type": "stream",
     "text": [
      "\n",
      "ADF Test Results:\n",
      "ADF Statistic: -16.259276826690805\n",
      "p-value: 3.579486710351117e-29\n",
      "The data is stationary.\n"
     ]
    }
   ],
   "source": [
    "# Perform ADF test on 'value' column to check for stationarity\n",
    "adf_test = adfuller(interpolated_data['value_wage'])\n",
    "print(\"\\nADF Test Results:\")\n",
    "print(f\"ADF Statistic: {adf_test[0]}\")\n",
    "print(f\"p-value: {adf_test[1]}\")\n",
    "if adf_test[1] < 0.05:\n",
    "    print(\"The data is stationary.\")\n",
    "else:\n",
    "    print(\"The data is not stationary. Differencing may be required.\")"
   ]
  },
  {
   "cell_type": "code",
   "execution_count": 140,
   "metadata": {},
   "outputs": [
    {
     "name": "stdout",
     "output_type": "stream",
     "text": [
      "ACF and PACF plots saved as 'acf_pacf_plot.png_wage'.\n"
     ]
    }
   ],
   "source": [
    "import matplotlib.pyplot as plt\n",
    "from statsmodels.graphics.tsaplots import plot_acf, plot_pacf\n",
    "\n",
    "# Plot ACF and PACF to determine p and q\n",
    "plt.figure(figsize=(12, 6))\n",
    "plt.subplot(121)\n",
    "plot_acf(interpolated_data['value_diff'].dropna() if 'value_diff' in interpolated_data else interpolated_data['value_wage'], \n",
    "         ax=plt.gca(), lags=40)\n",
    "plt.title(\"ACF Plot\")\n",
    "plt.subplot(122)\n",
    "plot_pacf(interpolated_data['value_diff'].dropna() if 'value_diff' in interpolated_data else interpolated_data['value_wage'], \n",
    "          ax=plt.gca(), lags=40)\n",
    "plt.title(\"PACF Plot\")\n",
    "\n",
    "# Save the figure to a file\n",
    "plt.savefig(\"acf_pacf_plot_wage.png\")\n",
    "\n",
    "# Inform the user that the plot was saved\n",
    "print(\"ACF and PACF plots saved as 'acf_pacf_plot.png_wage'.\")"
   ]
  }
 ],
 "metadata": {
  "kernelspec": {
   "display_name": "base",
   "language": "python",
   "name": "python3"
  },
  "language_info": {
   "codemirror_mode": {
    "name": "ipython",
    "version": 3
   },
   "file_extension": ".py",
   "mimetype": "text/x-python",
   "name": "python",
   "nbconvert_exporter": "python",
   "pygments_lexer": "ipython3",
   "version": "3.12.4"
  }
 },
 "nbformat": 4,
 "nbformat_minor": 2
}
